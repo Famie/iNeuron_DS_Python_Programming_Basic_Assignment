{
 "cells": [
  {
   "cell_type": "markdown",
   "metadata": {},
   "source": [
    "# Programming Assignment 20"
   ]
  },
  {
   "cell_type": "code",
   "execution_count": 4,
   "metadata": {},
   "outputs": [
    {
     "name": "stdout",
     "output_type": "stream",
     "text": [
      "[]\n"
     ]
    }
   ],
   "source": [
    "#1. Create a function that takes a list of strings and integers, and filters out the \n",
    "# list so that it returns a list of integers only.\n",
    "\n",
    "def filter_list(lst_val):\n",
    "    int_lst_val = [i for i in lst_val if(type(i) == int)]\n",
    "    return int_lst_val\n",
    "    \n",
    "        \n",
    "print(filter_list([\"Nothing\", \"here\"]))"
   ]
  },
  {
   "cell_type": "code",
   "execution_count": 7,
   "metadata": {},
   "outputs": [
    {
     "name": "stdout",
     "output_type": "stream",
     "text": [
      "[5, 5, 5, 5, 5]\n"
     ]
    }
   ],
   "source": [
    "#2. Given a list of numbers, create a function which returns the list but with each element's index in the list added to itself.\n",
    "def add_indexes(lst_val):\n",
    "    new_lst_val = [i + lst_val[i] for i in range(0,len(lst_val))]\n",
    "    return new_lst_val\n",
    "\n",
    "print(add_indexes([5, 4, 3, 2, 1]))"
   ]
  },
  {
   "cell_type": "code",
   "execution_count": 10,
   "metadata": {},
   "outputs": [
    {
     "name": "stdout",
     "output_type": "stream",
     "text": [
      "0.0\n"
     ]
    }
   ],
   "source": [
    "#3. Create a function that takes the height and radius of a cone as arguments \n",
    "# and returns the volume of the cone rounded to the nearest hundredth. See the resources tab for the formula.\n",
    "import math\n",
    "def cone_volume(height, radius):\n",
    "    cone_vol_val = math.pi * (radius ** 2) * (height/3)\n",
    "    return round(cone_vol_val,2)\n",
    "print(cone_volume(18,0))"
   ]
  },
  {
   "cell_type": "code",
   "execution_count": 16,
   "metadata": {},
   "outputs": [
    {
     "name": "stdout",
     "output_type": "stream",
     "text": [
      "23220\n"
     ]
    }
   ],
   "source": [
    "#4.Write a function that gives the number of dots with its corresponding triangle number of the sequence.\n",
    "\n",
    "def triangle(num):\n",
    "    dot_num =0\n",
    "    for i in range(1,num+1):\n",
    "        dot_num += i\n",
    "    return dot_num\n",
    "print(triangle(215))"
   ]
  },
  {
   "cell_type": "code",
   "execution_count": 19,
   "metadata": {},
   "outputs": [
    {
     "name": "stdout",
     "output_type": "stream",
     "text": [
      "7\n"
     ]
    }
   ],
   "source": [
    "#5. Create a function that takes a list of numbers between 1 and 10 (excluding one number) and returns the missing number.\n",
    "\n",
    "def missing_num(lst_val):    \n",
    "    for i in range(1,11):\n",
    "        if (i not in lst_val):\n",
    "            return i\n",
    "print(missing_num([10, 5, 1, 2, 4, 6, 8, 3, 9]))"
   ]
  },
  {
   "cell_type": "code",
   "execution_count": null,
   "metadata": {},
   "outputs": [],
   "source": []
  }
 ],
 "metadata": {
  "kernelspec": {
   "display_name": "Python 3",
   "language": "python",
   "name": "python3"
  },
  "language_info": {
   "codemirror_mode": {
    "name": "ipython",
    "version": 3
   },
   "file_extension": ".py",
   "mimetype": "text/x-python",
   "name": "python",
   "nbconvert_exporter": "python",
   "pygments_lexer": "ipython3",
   "version": "3.8.5"
  }
 },
 "nbformat": 4,
 "nbformat_minor": 4
}
