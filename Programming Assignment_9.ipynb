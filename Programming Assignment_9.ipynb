{
 "cells": [
  {
   "cell_type": "markdown",
   "metadata": {},
   "source": [
    "# Programming Assignment 9"
   ]
  },
  {
   "cell_type": "code",
   "execution_count": 15,
   "metadata": {},
   "outputs": [
    {
     "name": "stdout",
     "output_type": "stream",
     "text": [
      "Enter number80\n",
      "80 is not Disarium Number\n"
     ]
    }
   ],
   "source": [
    "#1. Write a Python program to check if the given number is a Disarium Number?\n",
    "def is_disarium_num(num):\n",
    "    num_sum = sum([int(value)**(i+1) for i, value in enumerate(num)])\n",
    "    if(str(num_sum) == num):\n",
    "        print(f\"{num} is Disarium Number\")\n",
    "    else:\n",
    "        print(f\"{num} is not Disarium Number\")\n",
    "\n",
    "num = input(\"Enter number\")\n",
    "is_disarium_num(num)\n",
    "    "
   ]
  },
  {
   "cell_type": "code",
   "execution_count": 21,
   "metadata": {},
   "outputs": [
    {
     "name": "stdout",
     "output_type": "stream",
     "text": [
      "1\n",
      "2\n",
      "3\n",
      "4\n",
      "5\n",
      "6\n",
      "7\n",
      "8\n",
      "9\n",
      "89\n"
     ]
    }
   ],
   "source": [
    "#2. Write a Python program to print all disarium numbers between 1 to 100?\n",
    "def print_all_disarium_num(num_limit):\n",
    "    for num in range(1,num_limit+1):\n",
    "        num_sum = sum([int(value)**(i+1) for i, value in enumerate(str(num))])\n",
    "        if(num_sum == num):\n",
    "            print(num)\n",
    "        \n",
    "\n",
    "\n",
    "print_all_disarium_num(100)"
   ]
  },
  {
   "cell_type": "code",
   "execution_count": 24,
   "metadata": {},
   "outputs": [
    {
     "name": "stdout",
     "output_type": "stream",
     "text": [
      "Enter number 6\n",
      "6 is not Happy Number\n"
     ]
    }
   ],
   "source": [
    "#3. Write a Python program to check if the given number is Happy Number?\n",
    "\n",
    "def is_Happy_num(n):\n",
    "  past = set()\n",
    "  while n != 1:\n",
    "        n = sum(int(i)**2 for i in str(n))\n",
    "        if n in past:\n",
    "            return False\n",
    "        past.add(n)\n",
    "  return True\n",
    "\n",
    "num = int(input(\"Enter number \"))\n",
    "if (is_Happy_num(num)):\n",
    "  print(f\"{num} is Happy Number\")\n",
    "else:\n",
    "  print(f\"{num} is not Happy Number\")"
   ]
  },
  {
   "cell_type": "code",
   "execution_count": 27,
   "metadata": {},
   "outputs": [
    {
     "name": "stdout",
     "output_type": "stream",
     "text": [
      "1\n",
      "7\n",
      "10\n",
      "13\n",
      "19\n",
      "23\n",
      "28\n",
      "31\n",
      "32\n",
      "44\n",
      "49\n",
      "68\n",
      "70\n",
      "79\n",
      "82\n",
      "86\n",
      "91\n",
      "94\n",
      "97\n",
      "100\n"
     ]
    }
   ],
   "source": [
    "#4. Write a Python program to print all happy numbers between 1 and 100?\n",
    "\n",
    "lower_limit = 1\n",
    "upper_limit = 100\n",
    "for i in range(lower_limit, upper_limit+1):\n",
    "   if (is_Happy_num(i)):\n",
    "      print(i)\n",
    "   \n"
   ]
  },
  {
   "cell_type": "code",
   "execution_count": 35,
   "metadata": {},
   "outputs": [
    {
     "name": "stdout",
     "output_type": "stream",
     "text": [
      "Enter number156\n",
      "156 is Harshad Number\n"
     ]
    }
   ],
   "source": [
    "#5. Write a Python program to determine whether the given number is a Harshad Number?\n",
    "def is_harshad_num(num):\n",
    "    num_sum = sum([int(value) for i, value in enumerate(num)])\n",
    "    if(int(num) % num_sum == 0):\n",
    "        return True\n",
    "    else:\n",
    "        return False\n",
    "\n",
    "num = input(\"Enter number\")\n",
    "if(is_harshad_num(num)):\n",
    "    print(f\"{num} is Harshad Number\")\n",
    "else:    \n",
    "    print(f\"{num} is not Harshad Number\")\n"
   ]
  },
  {
   "cell_type": "code",
   "execution_count": 3,
   "metadata": {},
   "outputs": [
    {
     "name": "stdout",
     "output_type": "stream",
     "text": [
      "2\n",
      "6\n",
      "12\n",
      "20\n",
      "30\n",
      "42\n",
      "56\n",
      "72\n",
      "90\n"
     ]
    }
   ],
   "source": [
    "#6. Write a Python program to print all pronic numbers between 1 and 100?\n",
    "\n",
    "result = 0\n",
    "counter = 1\n",
    "result = counter * (counter+1)\n",
    "while(result <= 100):    \n",
    "    counter +=1\n",
    "    print(result)\n",
    "    result = counter * (counter+1)\n",
    "    \n",
    "    "
   ]
  },
  {
   "cell_type": "code",
   "execution_count": null,
   "metadata": {},
   "outputs": [],
   "source": []
  }
 ],
 "metadata": {
  "kernelspec": {
   "display_name": "Python 3",
   "language": "python",
   "name": "python3"
  },
  "language_info": {
   "codemirror_mode": {
    "name": "ipython",
    "version": 3
   },
   "file_extension": ".py",
   "mimetype": "text/x-python",
   "name": "python",
   "nbconvert_exporter": "python",
   "pygments_lexer": "ipython3",
   "version": "3.8.5"
  }
 },
 "nbformat": 4,
 "nbformat_minor": 4
}
