{
 "cells": [
  {
   "cell_type": "markdown",
   "metadata": {},
   "source": [
    "# Programming Assignment 24"
   ]
  },
  {
   "cell_type": "code",
   "execution_count": 4,
   "metadata": {},
   "outputs": [
    {
     "data": {
      "text/plain": [
       "[1,\n",
       " 2,\n",
       " 3,\n",
       " 40,\n",
       " 5,\n",
       " 6,\n",
       " 7,\n",
       " 80,\n",
       " 9,\n",
       " 10,\n",
       " 11,\n",
       " 120,\n",
       " 13,\n",
       " 14,\n",
       " 15,\n",
       " 160,\n",
       " 17,\n",
       " 18,\n",
       " 19,\n",
       " 200,\n",
       " 21,\n",
       " 22,\n",
       " 23,\n",
       " 240,\n",
       " 25]"
      ]
     },
     "execution_count": 4,
     "metadata": {},
     "output_type": "execute_result"
    }
   ],
   "source": [
    "#1. Create a function that takes an integer and returns a list from 1 to the given number,\n",
    "\n",
    "def amplify(num):\n",
    "    return [i*10 if i%4 ==0 else i for i in range(1, num+1)]\n",
    "\n",
    "amplify(25)\n"
   ]
  },
  {
   "cell_type": "code",
   "execution_count": 8,
   "metadata": {},
   "outputs": [
    {
     "data": {
      "text/plain": [
       "0"
      ]
     },
     "execution_count": 8,
     "metadata": {},
     "output_type": "execute_result"
    }
   ],
   "source": [
    "#2. Create a function that takes a list of numbers and return the number that's unique.\n",
    "\n",
    "def unique(lst_val):\n",
    "    for i in lst_val:\n",
    "        if (lst_val.count(i) == 1):\n",
    "            return i\n",
    "unique([0, 1, 1, 1, 1, 1, 1, 1])\n",
    "        "
   ]
  },
  {
   "cell_type": "code",
   "execution_count": 22,
   "metadata": {},
   "outputs": [
    {
     "data": {
      "text/plain": [
       "27.897342763877365"
      ]
     },
     "execution_count": 22,
     "metadata": {},
     "output_type": "execute_result"
    }
   ],
   "source": [
    "#3. Your task is to create a Circle constructor that creates a circle with a radius provided by an argument. The circles \n",
    "# constructed must have two getters getArea() (PIr^2) and getPerimeter() (2PI*r) which give both respective areas and \n",
    "# perimeter (circumference).\n",
    "\n",
    "import math\n",
    "class Circle():\n",
    "    def __init__(self, r):\n",
    "        self.radius = r\n",
    "\n",
    "    def getArea(self):\n",
    "        return self.radius**2*math.pi\n",
    "    \n",
    "    def getPerimeter(self):\n",
    "        return 2*self.radius*math.pi\n",
    "\n",
    "circy = Circle(4.44)\n",
    "circy.getPerimeter()\n",
    "\n",
    "\n"
   ]
  },
  {
   "cell_type": "code",
   "execution_count": 12,
   "metadata": {},
   "outputs": [
    {
     "data": {
      "text/plain": [
       "['Jung', 'Turing', 'Einstein']"
      ]
     },
     "execution_count": 12,
     "metadata": {},
     "output_type": "execute_result"
    }
   ],
   "source": [
    "#4. Create a function that takes a list of strings and return a list, sorted from shortest to longest.\n",
    "\n",
    "def sort_by_length(lst_str_val):\n",
    "    sorted_lst_str_val = []\n",
    "    while (len(lst_str_val) > 0):\n",
    "        min = len(lst_str_val[0])\n",
    "        min_index = 0\n",
    "        index = 0\n",
    "        for i in lst_str_val:\n",
    "            if min >= len(i):\n",
    "                min = len(i)\n",
    "                min_index = index\n",
    "            index += 1\n",
    "        sorted_lst_str_val.append(lst_str_val[min_index])\n",
    "        lst_str_val.pop(min_index)\n",
    "    return sorted_lst_str_val\n",
    "\n",
    "sort_by_length([\"Turing\", \"Einstein\", \"Jung\"])"
   ]
  },
  {
   "cell_type": "code",
   "execution_count": 17,
   "metadata": {},
   "outputs": [
    {
     "data": {
      "text/plain": [
       "True"
      ]
     },
     "execution_count": 17,
     "metadata": {},
     "output_type": "execute_result"
    }
   ],
   "source": [
    "#5. Create a function that validates whether three given integers form a Pythagorean triplet. The sum of the squares of \n",
    "# the two smallest integers must equal the square of the largest number to be validated.\n",
    "def is_triplet(*args):\n",
    "    if (len(args) != 3):\n",
    "        return \"Invalid number of arguments. Expecting 3 numbers only.\"\n",
    "    lst_val = list(args)\n",
    "    max_val = max(lst_val)\n",
    "    lst_val.remove(max_val)\n",
    "    total_sum = 0\n",
    "    for i in lst_val:\n",
    "        total_sum += i**2\n",
    "    if (total_sum == (max_val**2)):\n",
    "        return True\n",
    "    else:\n",
    "        return False\n",
    "\n",
    "is_triplet(3, 4, 5)\n"
   ]
  },
  {
   "cell_type": "code",
   "execution_count": null,
   "metadata": {},
   "outputs": [],
   "source": []
  }
 ],
 "metadata": {
  "kernelspec": {
   "display_name": "Python 3",
   "language": "python",
   "name": "python3"
  },
  "language_info": {
   "codemirror_mode": {
    "name": "ipython",
    "version": 3
   },
   "file_extension": ".py",
   "mimetype": "text/x-python",
   "name": "python",
   "nbconvert_exporter": "python",
   "pygments_lexer": "ipython3",
   "version": "3.8.5"
  }
 },
 "nbformat": 4,
 "nbformat_minor": 4
}
