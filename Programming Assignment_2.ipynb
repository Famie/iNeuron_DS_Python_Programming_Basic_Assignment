{
 "cells": [
  {
   "cell_type": "markdown",
   "metadata": {},
   "source": [
    "# Programming Assignment 2"
   ]
  },
  {
   "cell_type": "code",
   "execution_count": 2,
   "metadata": {},
   "outputs": [
    {
     "name": "stdout",
     "output_type": "stream",
     "text": [
      "10 kilometers is equal to 6.213699999999999 miles\n"
     ]
    }
   ],
   "source": [
    "#1. Write a Python program to convert kilometers to miles?\n",
    "\n",
    "kilometers = 10\n",
    "miles = kilometers * 0.62137\n",
    "print(f\"{kilometers} kilometers is equal to {miles} miles\")"
   ]
  },
  {
   "cell_type": "code",
   "execution_count": 3,
   "metadata": {},
   "outputs": [
    {
     "name": "stdout",
     "output_type": "stream",
     "text": [
      "25 Celsius is equal to 77.0 Fahrenheit\n"
     ]
    }
   ],
   "source": [
    "#2. Write a Python program to convert Celsius to Fahrenheit?\n",
    "\n",
    "celsius = 25\n",
    "fahrenheit = (celsius * 9/5) + 32\n",
    "print(f\"{celsius} Celsius is equal to {fahrenheit} Fahrenheit\")"
   ]
  },
  {
   "cell_type": "code",
   "execution_count": 18,
   "metadata": {},
   "outputs": [
    {
     "name": "stdout",
     "output_type": "stream",
     "text": [
      "   December 2021\n",
      "Mo Tu We Th Fr Sa Su\n",
      "       1  2  3  4  5\n",
      " 6  7  8  9 10 11 12\n",
      "13 14 15 16 17 18 19\n",
      "20 21 22 23 24 25 26\n",
      "27 28 29 30 31\n",
      "\n"
     ]
    }
   ],
   "source": [
    "#3. Write a Python program to display calendar?\n",
    "from datetime import date\n",
    "import calendar\n",
    "\n",
    "currentyear = date.today().year\n",
    "currentmonth = date.today().month\n",
    "\n",
    "print(calendar.month(currentyear, currentmonth))"
   ]
  },
  {
   "cell_type": "code",
   "execution_count": 26,
   "metadata": {},
   "outputs": [
    {
     "name": "stdout",
     "output_type": "stream",
     "text": [
      "Solutions are -3.0 and -2.0\n"
     ]
    }
   ],
   "source": [
    "#4. Write a Python program to solve quadratic equation?\n",
    "import math\n",
    "a = 1\n",
    "b = 5\n",
    "c = 6\n",
    "\n",
    "d = (b**2) - (4*a*c)\n",
    "\n",
    "# find two solutions\n",
    "sol1 = (-b-math.sqrt(d))/(2*a)\n",
    "sol2 = (-b+math.sqrt(d))/(2*a)\n",
    "\n",
    "print(f\"Solutions are {sol1} and {sol2}\")\n"
   ]
  },
  {
   "cell_type": "code",
   "execution_count": 27,
   "metadata": {},
   "outputs": [
    {
     "name": "stdout",
     "output_type": "stream",
     "text": [
      "Current value of a is 10 and b is 15\n",
      "After swaping value of a is 15 and b is 10\n"
     ]
    }
   ],
   "source": [
    "#5. Write a Python program to swap two variables without temp variable?\n",
    "a = 10\n",
    "b = 15\n",
    "\n",
    "print (f\"Current value of a is {a} and b is {b}\")\n",
    "a = a + b\n",
    "b = a - b\n",
    "a = a - b\n",
    "\n",
    "print (f\"After swaping value of a is {a} and b is {b}\")\n"
   ]
  },
  {
   "cell_type": "code",
   "execution_count": null,
   "metadata": {},
   "outputs": [],
   "source": []
  }
 ],
 "metadata": {
  "kernelspec": {
   "display_name": "Python 3",
   "language": "python",
   "name": "python3"
  },
  "language_info": {
   "codemirror_mode": {
    "name": "ipython",
    "version": 3
   },
   "file_extension": ".py",
   "mimetype": "text/x-python",
   "name": "python",
   "nbconvert_exporter": "python",
   "pygments_lexer": "ipython3",
   "version": "3.8.5"
  }
 },
 "nbformat": 4,
 "nbformat_minor": 4
}
