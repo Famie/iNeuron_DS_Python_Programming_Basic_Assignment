{
 "cells": [
  {
   "cell_type": "markdown",
   "metadata": {},
   "source": [
    "# Programming Assignment 18"
   ]
  },
  {
   "cell_type": "code",
   "execution_count": 6,
   "metadata": {},
   "outputs": [
    {
     "name": "stdout",
     "output_type": "stream",
     "text": [
      "[1, 2]\n"
     ]
    }
   ],
   "source": [
    "#1. Create a function that takes a list of non-negative integers and strings and return a new list without the strings.\n",
    "def filter_list(lst_val):\n",
    "    int_lst_val = [i for i in lst_val if(type(i) == int)]\n",
    "    return int_lst_val\n",
    "    \n",
    "        \n",
    "print(filter_list([1, 2, \"a\", \"b\"]))"
   ]
  },
  {
   "cell_type": "code",
   "execution_count": 9,
   "metadata": {},
   "outputs": [
    {
     "name": "stdout",
     "output_type": "stream",
     "text": [
      "RADAr\n"
     ]
    }
   ],
   "source": [
    "#2. The \"Reverser\" takes a string as input and returns that string in reverse order, with the opposite case.\n",
    "\n",
    "def reverse(str_val):\n",
    "    rev_str_val = str_val[::-1]\n",
    "    rev_str_lst_val = []\n",
    "    for i in rev_str_val:\n",
    "        if (i.isupper()):\n",
    "            rev_str_lst_val.append(i.lower())\n",
    "        else:\n",
    "            rev_str_lst_val.append(i.upper())\n",
    "    rev_str_case = (\"\").join(rev_str_lst_val)\n",
    "    return rev_str_case\n",
    "print(reverse(\"Radar\"))"
   ]
  },
  {
   "cell_type": "code",
   "execution_count": 15,
   "metadata": {},
   "outputs": [
    {
     "name": "stdout",
     "output_type": "stream",
     "text": [
      "w\n",
      "riteyourcodeher\n",
      "e\n"
     ]
    }
   ],
   "source": [
    "#3. Your task is to unpack the list writeyourcodehere into three variables, being first, middle, and last, \n",
    "# with middle being everything in between the first and last element. Then print all three variables\n",
    "\n",
    "str_val = \"writeyourcodehere\"\n",
    "first, *middle, last = str_val\n",
    "print(first)\n",
    "print(('').join(middle))\n",
    "print(last)\n"
   ]
  },
  {
   "cell_type": "code",
   "execution_count": 16,
   "metadata": {},
   "outputs": [
    {
     "name": "stdout",
     "output_type": "stream",
     "text": [
      "120\n"
     ]
    }
   ],
   "source": [
    "#4. Write a function that calculates the factorial of a number recursively.\n",
    "\n",
    "def factorial(a):\n",
    "    if (a == 0):\n",
    "        return 1\n",
    "    elif (a == 1):\n",
    "        return 1\n",
    "    else:\n",
    "        return (a*factorial(a-1))\n",
    "print(factorial(5))  "
   ]
  },
  {
   "cell_type": "code",
   "execution_count": 20,
   "metadata": {},
   "outputs": [
    {
     "name": "stdout",
     "output_type": "stream",
     "text": [
      "['b', 'a', 'a', 'a']\n"
     ]
    }
   ],
   "source": [
    "#5. Write a function that moves all elements of one type to the end of the list\n",
    "\n",
    "def move_to_end(lst_val, val):\n",
    "    copy_lst_val = lst_val.copy()\n",
    "    for i in lst_val:\n",
    "        if (i == val):\n",
    "            copy_lst_val.remove(val)\n",
    "            copy_lst_val.append(val)\n",
    "    return copy_lst_val\n",
    "\n",
    "print(move_to_end([\"a\", \"a\", \"a\", \"b\"], \"a\"))"
   ]
  },
  {
   "cell_type": "code",
   "execution_count": null,
   "metadata": {},
   "outputs": [],
   "source": []
  }
 ],
 "metadata": {
  "kernelspec": {
   "display_name": "Python 3",
   "language": "python",
   "name": "python3"
  },
  "language_info": {
   "codemirror_mode": {
    "name": "ipython",
    "version": 3
   },
   "file_extension": ".py",
   "mimetype": "text/x-python",
   "name": "python",
   "nbconvert_exporter": "python",
   "pygments_lexer": "ipython3",
   "version": "3.8.5"
  }
 },
 "nbformat": 4,
 "nbformat_minor": 4
}
