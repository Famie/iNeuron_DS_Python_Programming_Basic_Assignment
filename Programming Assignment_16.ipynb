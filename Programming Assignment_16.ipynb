{
 "cells": [
  {
   "cell_type": "markdown",
   "metadata": {},
   "source": [
    "# Programming Assignment 16"
   ]
  },
  {
   "cell_type": "code",
   "execution_count": 18,
   "metadata": {},
   "outputs": [
    {
     "name": "stdout",
     "output_type": "stream",
     "text": [
      "Input word: outstanding\n",
      "ou... ou... outstanding?\n"
     ]
    }
   ],
   "source": [
    "#1. Write a function that stutters a word as if someone is struggling to read it. The first two letters are repeated twice \n",
    "# with an ellipsis ... and space after each, and then the word is pronounced with a question mark ?\n",
    "\n",
    "\n",
    "def stutters(word):\n",
    "    if(len(word) <= 1):\n",
    "        print(\"Invalid word \")\n",
    "        return\n",
    "    letters = word[0:2]\n",
    "    stutters_word = letters +\"... \" + letters +\"... \" + word + \"?\"\n",
    "    print(stutters_word)\n",
    "\n",
    "word = input(\"Input word: \")\n",
    "stutters(word.lower())"
   ]
  },
  {
   "cell_type": "code",
   "execution_count": 32,
   "metadata": {},
   "outputs": [
    {
     "name": "stdout",
     "output_type": "stream",
     "text": [
      "Enter number in radian: 50\n",
      "50.0 radians is equal to 2864.8 degrees\n"
     ]
    }
   ],
   "source": [
    "#2. Create a function that takes an angle in radians and returns the corresponding angle \n",
    "# in degrees rounded to one decimal place.\n",
    "import math\n",
    "def degree_to_radian_converter(radian):\n",
    "    return round(math.degrees(radian),1)\n",
    "    \n",
    "num = float(input(\"Enter number in radian: \"))\n",
    "degrees =  degree_to_radian_converter(num)\n",
    "print(f\"{num} radians is equal to {degrees} degrees\")\n"
   ]
  },
  {
   "cell_type": "code",
   "execution_count": 37,
   "metadata": {},
   "outputs": [
    {
     "name": "stdout",
     "output_type": "stream",
     "text": [
      "Enter number : 14\n",
      "True\n"
     ]
    }
   ],
   "source": [
    "#3. In this challenge, establish if a given integer num is a Curzon number. If 1 plus 2 elevated to num is exactly \n",
    "# divisible by 1 plus 2 multiplied by num, then num is a Curzon number.\n",
    "\n",
    "def is_curzon(num):\n",
    "    x = 1 + (2**num)\n",
    "    y = 1 + (2 * num)\n",
    "    if (x % y == 0):\n",
    "        return True    \n",
    "    return False\n",
    "\n",
    "num = input(\"Enter number : \")\n",
    "print(is_curzon(int(num)))"
   ]
  },
  {
   "cell_type": "code",
   "execution_count": 41,
   "metadata": {},
   "outputs": [
    {
     "name": "stdout",
     "output_type": "stream",
     "text": [
      "Enter single side length of hexagon : 3\n",
      "Area of hexagon is 23.4\n"
     ]
    }
   ],
   "source": [
    "#4. Given the side length x find the area of a hexagon.\n",
    "import math\n",
    "def area_of_hexagon(x):\n",
    "    area = (3 * math.sqrt(3) * (x ** 2))/2\n",
    "    return round(area,1)\n",
    "\n",
    "num = float(input(\"Enter single side length of hexagon : \"))\n",
    "print(f\"Area of hexagon is {area_of_hexagon(num)}\")"
   ]
  },
  {
   "cell_type": "code",
   "execution_count": 50,
   "metadata": {},
   "outputs": [
    {
     "name": "stdout",
     "output_type": "stream",
     "text": [
      "Enter decimal number : 2\n",
      "Decimal 2 convert to binary 10\n"
     ]
    }
   ],
   "source": [
    "#5. Create a function that returns a base-2 (binary) representation of a base-10 (decimal) string number.\n",
    "def binary(num):\n",
    "    bin_num =\"\"\n",
    "    while(num >= 1):        \n",
    "        bin_num = bin_num + str(num % 2)\n",
    "        num //= 2\n",
    "    return bin_num[::-1]\n",
    "\n",
    "num = int(input(\"Enter decimal number : \"))\n",
    "\n",
    "print(f\"Decimal {num} convert to binary {binary(num)}\")"
   ]
  },
  {
   "cell_type": "code",
   "execution_count": null,
   "metadata": {},
   "outputs": [],
   "source": []
  },
  {
   "cell_type": "code",
   "execution_count": null,
   "metadata": {},
   "outputs": [],
   "source": []
  }
 ],
 "metadata": {
  "kernelspec": {
   "display_name": "Python 3",
   "language": "python",
   "name": "python3"
  },
  "language_info": {
   "codemirror_mode": {
    "name": "ipython",
    "version": 3
   },
   "file_extension": ".py",
   "mimetype": "text/x-python",
   "name": "python",
   "nbconvert_exporter": "python",
   "pygments_lexer": "ipython3",
   "version": "3.8.5"
  }
 },
 "nbformat": 4,
 "nbformat_minor": 4
}
