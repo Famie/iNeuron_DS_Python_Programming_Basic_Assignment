{
 "cells": [
  {
   "cell_type": "markdown",
   "metadata": {},
   "source": [
    "# Programming Assignment 6"
   ]
  },
  {
   "cell_type": "code",
   "execution_count": 46,
   "metadata": {},
   "outputs": [
    {
     "name": "stdout",
     "output_type": "stream",
     "text": [
      "Enter number greater than or equal to zero 9\n",
      "0\n",
      "1\n",
      "1\n",
      "2\n",
      "3\n",
      "5\n",
      "8\n",
      "13\n",
      "21\n",
      "34\n"
     ]
    }
   ],
   "source": [
    "#1. Write a Python Program to Display Fibonacci Sequence Using Recursion?\n",
    "def fibonacci(num):      \n",
    "    if (num == 0):\n",
    "        return 0\n",
    "    elif(num == 1 or num == 2):\n",
    "        return 1\n",
    "    else:\n",
    "        return fibonacci(num-1) + fibonacci(num-2)\n",
    " \n",
    "num = int(input(\"Enter number greater than or equal to zero \"))\n",
    "i = 0\n",
    "while(i<=num):\n",
    "    print(fibonacci(i))\n",
    "    i+=1"
   ]
  },
  {
   "cell_type": "code",
   "execution_count": 43,
   "metadata": {},
   "outputs": [
    {
     "name": "stdout",
     "output_type": "stream",
     "text": [
      "Enter number 0\n",
      "Factorial of 0 is 1\n"
     ]
    }
   ],
   "source": [
    "#2. Write a Python Program to Find Factorial of Number Using Recursion?\n",
    "def factorial(num):\n",
    "   if (num == 0):\n",
    "       return 1 \n",
    "   elif (num == 1):\n",
    "       return num\n",
    "   else:\n",
    "       return num*factorial(num-1)\n",
    "num = int(input(\"Enter number \"))\n",
    "print(f\"Factorial of {num} is {factorial(num)}\")"
   ]
  },
  {
   "cell_type": "code",
   "execution_count": 22,
   "metadata": {},
   "outputs": [
    {
     "name": "stdout",
     "output_type": "stream",
     "text": [
      "Enter weight 96\n",
      "Enter height 1.27\n",
      "The BMI is 59.52011904023808\n",
      "Obese\n"
     ]
    }
   ],
   "source": [
    "#3. Write a Python Program to calculate your Body Mass Index?\n",
    "def BMI(weight, height):\n",
    "    bmi = weight/(height**2)\n",
    "    print(f\"The BMI is {bmi}\")\n",
    "    if (bmi < 18.5):\n",
    "        print(\"underweight\")\n",
    "    elif ( bmi >= 18.5 and bmi < 24.9):\n",
    "        print(\"Healthy\") \n",
    "    elif ( bmi >= 24.9 and bmi < 30):\n",
    "        print(\"Overweight\")\n",
    "    elif ( bmi >=30):\n",
    "        print(\"Obese\")\n",
    "weight = float(input(\"Enter weight \"))\n",
    "height = float(input(\"Enter height \"))\n",
    "BMI(weight, height)"
   ]
  },
  {
   "cell_type": "code",
   "execution_count": 18,
   "metadata": {},
   "outputs": [
    {
     "name": "stdout",
     "output_type": "stream",
     "text": [
      "Enter number 14\n",
      "Natural logarithm of 14 is 2.6390573296152584\n"
     ]
    }
   ],
   "source": [
    "#4. Write a Python Program to calculate the natural logarithm of any number?\n",
    "import math\n",
    "num = int(input(\"Enter number \"))\n",
    "print(f\"Natural logarithm of {num} is {math.log(num)}\")"
   ]
  },
  {
   "cell_type": "code",
   "execution_count": 15,
   "metadata": {},
   "outputs": [
    {
     "name": "stdout",
     "output_type": "stream",
     "text": [
      "Enter natural number range 3\n",
      "36\n"
     ]
    }
   ],
   "source": [
    "#5. Write a Python Program for cube sum of first n natural numbers?\n",
    "def cubic_sum_natural_num(val):\n",
    "    cubic_sum = 0\n",
    "    for i in range(1, val+1):\n",
    "        cubic_sum +=(i**3)\n",
    "        \n",
    "          \n",
    "    return cubic_sum\n",
    "val = int(input(\"Enter natural number range \"))\n",
    "print(cubic_sum_natural_num(val))"
   ]
  },
  {
   "cell_type": "code",
   "execution_count": null,
   "metadata": {},
   "outputs": [],
   "source": []
  }
 ],
 "metadata": {
  "kernelspec": {
   "display_name": "Python 3",
   "language": "python",
   "name": "python3"
  },
  "language_info": {
   "codemirror_mode": {
    "name": "ipython",
    "version": 3
   },
   "file_extension": ".py",
   "mimetype": "text/x-python",
   "name": "python",
   "nbconvert_exporter": "python",
   "pygments_lexer": "ipython3",
   "version": "3.8.5"
  }
 },
 "nbformat": 4,
 "nbformat_minor": 4
}
