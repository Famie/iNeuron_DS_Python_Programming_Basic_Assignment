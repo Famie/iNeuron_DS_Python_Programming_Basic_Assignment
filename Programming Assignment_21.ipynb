{
 "cells": [
  {
   "cell_type": "markdown",
   "metadata": {},
   "source": [
    "# Programming Assignment 21"
   ]
  },
  {
   "cell_type": "code",
   "execution_count": 17,
   "metadata": {},
   "outputs": [
    {
     "data": {
      "text/plain": [
       "'No list has been selected'"
      ]
     },
     "execution_count": 17,
     "metadata": {},
     "output_type": "execute_result"
    }
   ],
   "source": [
    "#1. Write a function that takes a list and a number as arguments. Add the number to the end of the list, \n",
    "# then remove the first element of the list. The function should then return the updated list.\n",
    "\n",
    "def next_in_line(lst_val, num):\n",
    "    if (lst_val == []):\n",
    "        return \"No list has been selected\"\n",
    "    else:\n",
    "        lst_val.pop(0)\n",
    "        lst_val.append(num)\n",
    "        return lst_val\n",
    "next_in_line([], 6)\n"
   ]
  },
  {
   "cell_type": "code",
   "execution_count": 19,
   "metadata": {},
   "outputs": [
    {
     "data": {
      "text/plain": [
       "62600"
      ]
     },
     "execution_count": 19,
     "metadata": {},
     "output_type": "execute_result"
    }
   ],
   "source": [
    "#2. Create the function that takes a list of dictionaries and returns the sum of people's budgets.\n",
    "def get_budgets(lst_val):\n",
    "    budget_sum = 0\n",
    "    for i in lst_val:\n",
    "        budget_sum += i[\"budget\"]\n",
    "    return budget_sum\n",
    "get_budgets([\n",
    "  { \"name\": \"John\",  \"age\": 21, \"budget\": 29000 },\n",
    "  { \"name\": \"Steve\",  \"age\": 32, \"budget\": 32000 },\n",
    "  { \"name\": \"Martin\",  \"age\": 16, \"budget\": 1600 }\n",
    "])\n"
   ]
  },
  {
   "cell_type": "code",
   "execution_count": 12,
   "metadata": {},
   "outputs": [
    {
     "data": {
      "text/plain": [
       "'aacijprstv'"
      ]
     },
     "execution_count": 12,
     "metadata": {},
     "output_type": "execute_result"
    }
   ],
   "source": [
    "#3. Create a function that takes a string and returns a string with its letters in alphabetical order.\n",
    "\n",
    "def alphabet_soup(str_val):\n",
    "    str_val_lst = list(str_val)\n",
    "    str_val_lst.sort()\n",
    "    alpha_sort = (\"\").join(str_val_lst)\n",
    "    return alpha_sort\n",
    "alphabet_soup(\"javascript\")"
   ]
  },
  {
   "cell_type": "code",
   "execution_count": 22,
   "metadata": {},
   "outputs": [
    {
     "data": {
      "text/plain": [
       "2007316.26"
      ]
     },
     "execution_count": 22,
     "metadata": {},
     "output_type": "execute_result"
    }
   ],
   "source": [
    "#4. Create a function that accepts the principal p, the term in years t, the interest rate r, and \n",
    "# the number of compounding periods per year n. \n",
    "# The function returns the value at the end of term rounded to the nearest cent.\n",
    "def compound_interest(p,t,r,n):\n",
    "    return round(p*(pow((1+r/n), n*t)),2)\n",
    "compound_interest(100000, 20, 0.15, 365)"
   ]
  },
  {
   "cell_type": "code",
   "execution_count": 4,
   "metadata": {},
   "outputs": [
    {
     "name": "stdout",
     "output_type": "stream",
     "text": [
      "[1]\n"
     ]
    }
   ],
   "source": [
    "#5. Write a function that takes a list of elements and returns only the integers.\n",
    "\n",
    "def return_only_integer(lst_val):\n",
    "    int_lst_val = [i for i in lst_val if(type(i) == int)]\n",
    "    return int_lst_val\n",
    "    \n",
    "        \n",
    "print(return_only_integer([\"String\",  True,  3.3,  1]))"
   ]
  },
  {
   "cell_type": "code",
   "execution_count": null,
   "metadata": {},
   "outputs": [],
   "source": []
  },
  {
   "cell_type": "code",
   "execution_count": null,
   "metadata": {},
   "outputs": [],
   "source": []
  }
 ],
 "metadata": {
  "kernelspec": {
   "display_name": "Python 3",
   "language": "python",
   "name": "python3"
  },
  "language_info": {
   "codemirror_mode": {
    "name": "ipython",
    "version": 3
   },
   "file_extension": ".py",
   "mimetype": "text/x-python",
   "name": "python",
   "nbconvert_exporter": "python",
   "pygments_lexer": "ipython3",
   "version": "3.8.5"
  }
 },
 "nbformat": 4,
 "nbformat_minor": 4
}
