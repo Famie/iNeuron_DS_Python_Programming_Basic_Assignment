{
 "cells": [
  {
   "cell_type": "markdown",
   "metadata": {},
   "source": [
    "# Programming Assignment 15"
   ]
  },
  {
   "cell_type": "code",
   "execution_count": 4,
   "metadata": {},
   "outputs": [
    {
     "name": "stdout",
     "output_type": "stream",
     "text": [
      "Enter the value for n: 100\n",
      "0,35,70\n"
     ]
    }
   ],
   "source": [
    "#1. Please write a program using generator to print the numbers which can be divisible by 5 and 7 \n",
    "# between 0 and n in comma separated form while n is input by console.\n",
    "\n",
    "class Generator:\n",
    "    def num_divisible_by_seven_and_five(self,num):\n",
    "        for i in range(0,num+1):\n",
    "            if((i%5) == 0 and (i%7) == 0):\n",
    "                yield i\n",
    "\n",
    "\n",
    "n = int(input(\"Enter the value for n: \"))\n",
    "genval = Generator()\n",
    "str_val =''\n",
    "for val in genval.num_divisible_by_seven_and_five(n):\n",
    "    str_val += str(val) + ','\n",
    "print(str_val.rstrip(\",\"))"
   ]
  },
  {
   "cell_type": "code",
   "execution_count": 5,
   "metadata": {},
   "outputs": [
    {
     "name": "stdout",
     "output_type": "stream",
     "text": [
      "Enter the value for n: 10\n",
      "0,2,4,6,8,10\n"
     ]
    }
   ],
   "source": [
    "#2. Please write a program using generator to print the even numbers \n",
    "# between 0 and n in comma separated form while n is input by console.\n",
    "class Generator:\n",
    "    def even_num(self,num):\n",
    "        for i in range(0,num+1):\n",
    "            if((i%2) == 0):\n",
    "                yield i\n",
    "\n",
    "\n",
    "n = int(input(\"Enter the value for n: \"))\n",
    "genval = Generator()\n",
    "str_val =''\n",
    "for val in genval.even_num(n):\n",
    "    str_val += str(val) + ','\n",
    "print(str_val.rstrip(\",\"))"
   ]
  },
  {
   "cell_type": "code",
   "execution_count": 10,
   "metadata": {},
   "outputs": [
    {
     "name": "stdout",
     "output_type": "stream",
     "text": [
      "Enter the value for n: 10\n",
      "0,1,1,2,3,5,8,13,21,34,55\n"
     ]
    }
   ],
   "source": [
    "#3. Please write a program using list comprehension \n",
    "# to print the Fibonacci Sequence in comma separated form with a given n input by console.\n",
    "\n",
    "def f(n):    \n",
    "    if n == 0: \n",
    "            return 0    \n",
    "    elif n == 1: \n",
    "            return 1    \n",
    "    else: \n",
    "            return f(n-1)+f(n-2)\n",
    "n=int(input(\"Enter the value for n: \")) \n",
    "values = [str(f(x)) for x in range(0, n+1)] \n",
    "print(\",\".join(values))"
   ]
  },
  {
   "cell_type": "code",
   "execution_count": 12,
   "metadata": {},
   "outputs": [
    {
     "name": "stdout",
     "output_type": "stream",
     "text": [
      "Enter email address: john@google.com\n",
      "john\n"
     ]
    }
   ],
   "source": [
    "#4. Assuming that we have some email addresses in the \"username@companyname.com\" format, please write program \n",
    "# to print the user name of a given email address. Both user names and company names are composed of letters only.\n",
    "\n",
    "email = input(\"Enter email address: \")\n",
    "email_lst = email.split(\"@\")\n",
    "print(email_lst[0])"
   ]
  },
  {
   "cell_type": "code",
   "execution_count": 18,
   "metadata": {},
   "outputs": [
    {
     "name": "stdout",
     "output_type": "stream",
     "text": [
      "The are of square is 100.\n"
     ]
    }
   ],
   "source": [
    "#5. Define a class named Shape and its subclass Square. The Square class has an init function which takes a length as argument. \n",
    "# Both classes have a area function which can print the area of the shape where Shape's area is 0 by default.\n",
    "class Shape:\n",
    "    def __init__(self):\n",
    "        pass\n",
    "    \n",
    "    def area(self):\n",
    "        print(\"Area of shape is 0.\")\n",
    "\n",
    "class Square(Shape):\n",
    "    def __init__(self, length):\n",
    "        Shape.__init__(self)\n",
    "        self.length = length\n",
    "        \n",
    "    def area(self):\n",
    "        print(f\"The are of square is {self.length**2}.\")\n",
    "\n",
    "shape = Square(10)\n",
    "shape.area()\n"
   ]
  },
  {
   "cell_type": "code",
   "execution_count": null,
   "metadata": {},
   "outputs": [],
   "source": []
  }
 ],
 "metadata": {
  "kernelspec": {
   "display_name": "Python 3",
   "language": "python",
   "name": "python3"
  },
  "language_info": {
   "codemirror_mode": {
    "name": "ipython",
    "version": 3
   },
   "file_extension": ".py",
   "mimetype": "text/x-python",
   "name": "python",
   "nbconvert_exporter": "python",
   "pygments_lexer": "ipython3",
   "version": "3.8.5"
  }
 },
 "nbformat": 4,
 "nbformat_minor": 4
}
