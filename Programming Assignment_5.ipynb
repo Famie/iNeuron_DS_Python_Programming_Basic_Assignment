{
 "cells": [
  {
   "cell_type": "markdown",
   "metadata": {},
   "source": [
    "# Programming Assignment 5"
   ]
  },
  {
   "cell_type": "code",
   "execution_count": 3,
   "metadata": {},
   "outputs": [
    {
     "name": "stdout",
     "output_type": "stream",
     "text": [
      "The LCM is 84\n"
     ]
    }
   ],
   "source": [
    "#1. Write a Python Program to Find LCM?\n",
    "def lcm(a, b):\n",
    "\n",
    "   greater = 0\n",
    "   if a > b:\n",
    "       greater = a\n",
    "   else:\n",
    "       greater = b\n",
    "\n",
    "   while(True):\n",
    "       if((greater % a == 0) and (greater % b == 0)):\n",
    "           lcm = greater\n",
    "           break\n",
    "       greater += 1\n",
    "\n",
    "   return lcm\n",
    "\n",
    "a = 12\n",
    "b = 14\n",
    "\n",
    "print(f\"The LCM is {lcm(a, b)}\")"
   ]
  },
  {
   "cell_type": "code",
   "execution_count": 7,
   "metadata": {},
   "outputs": [
    {
     "name": "stdout",
     "output_type": "stream",
     "text": [
      "The HCF is 6\n"
     ]
    }
   ],
   "source": [
    "#2. Write a Python Program to Find HCF?\n",
    "def hcf(*args):\n",
    "    num_list = list(args)\n",
    "    min_val = min(num_list)\n",
    "    i = 1\n",
    "    hcf_val = 0\n",
    "    while(i <= min_val):\n",
    "        result = list(map(lambda item: item % i, num_list))\n",
    "        if (is_all_zero(result)):\n",
    "           hcf_val = i         \n",
    "        i += 1\n",
    "    return hcf_val\n",
    "\n",
    "def is_all_zero(result):\n",
    "    for val in result:\n",
    "        if (val != 0):\n",
    "            return False\n",
    "    return True\n",
    "    \n",
    "print(f\"The HCF is {hcf(54, 24)}\")"
   ]
  },
  {
   "cell_type": "code",
   "execution_count": 8,
   "metadata": {},
   "outputs": [
    {
     "name": "stdout",
     "output_type": "stream",
     "text": [
      "Decimal to Binary conversion is 0b1100\n",
      "Decimal to Octal conversion is 0o14\n",
      "Decimal to Hexadecimal conversion is 0xc\n"
     ]
    }
   ],
   "source": [
    "#3.Write a Python Program to Convert Decimal to Binary, Octal and Hexadecimal?\n",
    "def convert(val):\n",
    "    print (f\"Decimal to Binary conversion is {bin(val)}\")\n",
    "    print (f\"Decimal to Octal conversion is {oct(val)}\")\n",
    "    print (f\"Decimal to Hexadecimal conversion is {hex(val)}\")\n",
    "\n",
    "convert(12)"
   ]
  },
  {
   "cell_type": "code",
   "execution_count": 12,
   "metadata": {},
   "outputs": [
    {
     "name": "stdout",
     "output_type": "stream",
     "text": [
      "ASCII value of 1 is 49\n"
     ]
    }
   ],
   "source": [
    "#4. Write a Python Program To Find ASCII value of a character?\n",
    "\n",
    "val = \"1\"\n",
    "print(f\"ASCII value of {val} is {ord(val)}\")\n"
   ]
  },
  {
   "cell_type": "code",
   "execution_count": 19,
   "metadata": {},
   "outputs": [
    {
     "name": "stdout",
     "output_type": "stream",
     "text": [
      "Operators\n",
      "Addition => +\n",
      "Subtraction => -\n",
      "Multiplication => *\n",
      "Division => /\n",
      "Provide Operator /\n",
      "Provide first number 5\n",
      "Provide second number 7\n",
      "5.0 / 7.0 = 0.7142857142857143\n",
      "Provide Operator \n"
     ]
    }
   ],
   "source": [
    "#5. Write a Python Program to Make a Simple Calculator with 4 basic mathematical operations?\n",
    "# Program make a simple calculator\n",
    "\n",
    "\n",
    "def add(a, b):\n",
    "    return a + b\n",
    "\n",
    "def subtract(a, b):\n",
    "    return a - b\n",
    "\n",
    "\n",
    "def multiply(a, b):\n",
    "    return a * b\n",
    "\n",
    "def divide(a, b):\n",
    "    return a / b\n",
    "\n",
    "def calculator():\n",
    "    print(\"Operators\")\n",
    "    print(\"Addition => +\")\n",
    "    print(\"Subtraction => -\")\n",
    "    print(\"Multiplication => *\")\n",
    "    print(\"Division => /\")\n",
    "    \n",
    "    while(True):\n",
    "        operator = input(\"Provide Operator \")\n",
    "        if (operator in ('+', '-', '*','/')):\n",
    "            \n",
    "            num1 = float(input(\"Provide first number \"))\n",
    "            num2 = float(input(\"Provide second number \"))\n",
    "            if (operator == \"+\"):\n",
    "                print(f\"{num1} + {num2} = {add(num1, num2)}\")\n",
    "            elif(operator == \"-\"):\n",
    "                print(f\"{num1} - {num2} = {subtract(num1, num2)}\")\n",
    "            elif(operator == \"*\"):\n",
    "                print(f\"{num1} * {num2} = {multiply(num1, num2)}\")\n",
    "            elif(operator == \"/\"):\n",
    "                print(f\"{num1} / {num2} = {divide(num1, num2)}\")\n",
    "        else:\n",
    "            break\n",
    "\n",
    "calculator()"
   ]
  },
  {
   "cell_type": "code",
   "execution_count": null,
   "metadata": {},
   "outputs": [],
   "source": []
  }
 ],
 "metadata": {
  "kernelspec": {
   "display_name": "Python 3",
   "language": "python",
   "name": "python3"
  },
  "language_info": {
   "codemirror_mode": {
    "name": "ipython",
    "version": 3
   },
   "file_extension": ".py",
   "mimetype": "text/x-python",
   "name": "python",
   "nbconvert_exporter": "python",
   "pygments_lexer": "ipython3",
   "version": "3.8.5"
  }
 },
 "nbformat": 4,
 "nbformat_minor": 4
}
