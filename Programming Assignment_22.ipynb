{
 "cells": [
  {
   "cell_type": "markdown",
   "metadata": {},
   "source": [
    "# Programming Assignment 22"
   ]
  },
  {
   "cell_type": "code",
   "execution_count": 3,
   "metadata": {},
   "outputs": [
    {
     "data": {
      "text/plain": [
       "[]"
      ]
     },
     "execution_count": 3,
     "metadata": {},
     "output_type": "execute_result"
    }
   ],
   "source": [
    "#1. Create a function that takes three parameters and Return an ordered list with numbers in the range that \n",
    "# are divisible by the third parameter n. Return an empty list if there are no numbers that are divisible by n\n",
    "\n",
    "def list_operation(x,y,n):\n",
    "    lst_val = [i for i in range(x, y+1) if (i%n == 0)]\n",
    "    return lst_val\n",
    "\n",
    "list_operation(15, 20, 7)"
   ]
  },
  {
   "cell_type": "code",
   "execution_count": 28,
   "metadata": {},
   "outputs": [
    {
     "data": {
      "text/plain": [
       "False"
      ]
     },
     "execution_count": 28,
     "metadata": {},
     "output_type": "execute_result"
    }
   ],
   "source": [
    "#2. Create a function that takes in two lists and returns True if the second list follows the first list by one element, \n",
    "# and False otherwise. In other words, determine if the second list is the first list shifted to the right by 1\n",
    "\n",
    "def simon_says(lst1_val, lst2_val):\n",
    "    *sub_list1_val, last_val = lst1_val    \n",
    "    first_val, *sub_list2_val = lst2_val    \n",
    "    if(sub_list1_val == sub_list2_val):\n",
    "        return True\n",
    "    else:\n",
    "        return False\n",
    "\n",
    "simon_says([1, 2, 3, 4, 5], [5, 5, 1, 2, 3]) "
   ]
  },
  {
   "cell_type": "code",
   "execution_count": 10,
   "metadata": {},
   "outputs": [
    {
     "data": {
      "text/plain": [
       "'CJMPRR'"
      ]
     },
     "execution_count": 10,
     "metadata": {},
     "output_type": "execute_result"
    }
   ],
   "source": [
    "#3. Create a function that takes in a list of names and returns the name of the secret society.\n",
    "def society_name(lst_val):\n",
    "    letter_lst_val =[]\n",
    "    for i in lst_val:\n",
    "        letter_lst_val.append(i[0])\n",
    "    letter_lst_val.sort()\n",
    "    return (\"\").join(letter_lst_val)\n",
    "\n",
    "\n",
    "society_name([\"Phoebe\", \"Chandler\", \"Rachel\", \"Ross\", \"Monica\", \"Joey\"])    "
   ]
  },
  {
   "cell_type": "code",
   "execution_count": 17,
   "metadata": {},
   "outputs": [
    {
     "data": {
      "text/plain": [
       "False"
      ]
     },
     "execution_count": 17,
     "metadata": {},
     "output_type": "execute_result"
    }
   ],
   "source": [
    "#4. An isogram is a word that has no duplicate letters. Create a function that takes a string and returns either True or \n",
    "# False depending on whether or not it's an \"isogram\".\n",
    "\n",
    "def is_isogram(word):\n",
    "    lower_case_word = word.lower()\n",
    "    for i in lower_case_word:\n",
    "        if(lower_case_word.count(i) > 1):\n",
    "            return False\n",
    "    return True\n",
    "\n",
    "is_isogram(\"Consecutive\")  "
   ]
  },
  {
   "cell_type": "code",
   "execution_count": 22,
   "metadata": {},
   "outputs": [
    {
     "data": {
      "text/plain": [
       "True"
      ]
     },
     "execution_count": 22,
     "metadata": {},
     "output_type": "execute_result"
    }
   ],
   "source": [
    "#5. Create a function that takes a string and returns True or False, depending on whether the characters are in order or not.\n",
    "\n",
    "def is_in_order(str_val):\n",
    "    lower_str_val = str_val.lower()\n",
    "    str_val_lst = list(lower_str_val)\n",
    "    str_val_lst.sort()\n",
    "    if(lower_str_val == ('').join(str_val_lst)):\n",
    "        return True\n",
    "    else:\n",
    "        return False\n",
    "\n",
    "is_in_order(\"xyzz\")"
   ]
  },
  {
   "cell_type": "code",
   "execution_count": null,
   "metadata": {},
   "outputs": [],
   "source": []
  }
 ],
 "metadata": {
  "kernelspec": {
   "display_name": "Python 3",
   "language": "python",
   "name": "python3"
  },
  "language_info": {
   "codemirror_mode": {
    "name": "ipython",
    "version": 3
   },
   "file_extension": ".py",
   "mimetype": "text/x-python",
   "name": "python",
   "nbconvert_exporter": "python",
   "pygments_lexer": "ipython3",
   "version": "3.8.5"
  }
 },
 "nbformat": 4,
 "nbformat_minor": 4
}
