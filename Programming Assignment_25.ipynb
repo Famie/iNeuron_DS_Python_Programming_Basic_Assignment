{
 "cells": [
  {
   "cell_type": "markdown",
   "metadata": {},
   "source": [
    "# Programming Assignment 25"
   ]
  },
  {
   "cell_type": "code",
   "execution_count": 13,
   "metadata": {},
   "outputs": [
    {
     "data": {
      "text/plain": [
       "0"
      ]
     },
     "execution_count": 13,
     "metadata": {},
     "output_type": "execute_result"
    }
   ],
   "source": [
    "#1. Create a function that takes three integer arguments (a, b, c) and returns the amount of integers which are of equal value.\n",
    "def equal(a, b, c):\n",
    "    \n",
    "    if (a ==b and a == c and b == c):\n",
    "        return 3\n",
    "    elif (a ==b or a == c or b ==c):\n",
    "        return 2\n",
    "    else:\n",
    "        return 0\n",
    "equal(3, 4, 1)"
   ]
  },
  {
   "cell_type": "code",
   "execution_count": 9,
   "metadata": {},
   "outputs": [
    {
     "data": {
      "text/plain": [
       "[('dislikes', 3), ('followers', 10), ('likes', 2)]"
      ]
     },
     "execution_count": 9,
     "metadata": {},
     "output_type": "execute_result"
    }
   ],
   "source": [
    "#2. Write a function that converts a dictionary into a list of keys-values tuples.\n",
    "\n",
    "def dict_to_list(dict_val):\n",
    "    lst_val = [i for i in dict_val.items()]\n",
    "    lst_val.sort()\n",
    "    return lst_val\n",
    "dict_to_list({\n",
    "  \"likes\": 2,\n",
    "  \"dislikes\": 3,\n",
    "  \"followers\": 10\n",
    "})\n",
    "\n"
   ]
  },
  {
   "cell_type": "code",
   "execution_count": 16,
   "metadata": {},
   "outputs": [
    {
     "data": {
      "text/plain": [
       "{'a': 'A', 'v': 'V', 'y': 'Y', 'z': 'Z'}"
      ]
     },
     "execution_count": 16,
     "metadata": {},
     "output_type": "execute_result"
    }
   ],
   "source": [
    "#3. Write a function that creates a dictionary with each (key, value) pair being the (lower case, upper case) \n",
    "# versions of a letter, respectively.\n",
    "\n",
    "def mapping(lst_val):\n",
    "    dict_val = {}\n",
    "    for i in lst_val:\n",
    "        dict_val[i] = i.upper()\n",
    "    return dict_val\n",
    "mapping([\"a\", \"v\", \"y\", \"z\"])"
   ]
  },
  {
   "cell_type": "code",
   "execution_count": 19,
   "metadata": {},
   "outputs": [
    {
     "data": {
      "text/plain": [
       "'steffed jelepene peppers'"
      ]
     },
     "execution_count": 19,
     "metadata": {},
     "output_type": "execute_result"
    }
   ],
   "source": [
    "#4. Write a function, that replaces all vowels in a string with a specified vowel.\n",
    "def vow_replace(str_val, char):\n",
    "    new_str_val = \"\"\n",
    "    vowel= \"aeiou\"\n",
    "    for i in str_val:\n",
    "        if (i in vowel):\n",
    "            new_str_val += char\n",
    "        else:\n",
    "            new_str_val += i\n",
    "    return new_str_val\n",
    "vow_replace(\"stuffed jalapeno poppers\", \"e\")\n",
    "    \n",
    "    "
   ]
  },
  {
   "cell_type": "code",
   "execution_count": 23,
   "metadata": {},
   "outputs": [
    {
     "data": {
      "text/plain": [
       "'oH wHaT a BeauTiFuL moRNiNg.'"
      ]
     },
     "execution_count": 23,
     "metadata": {},
     "output_type": "execute_result"
    }
   ],
   "source": [
    "#5. Create a function that takes a string as input and capitalizes a letter if its ASCII code is even and \n",
    "# returns its lower case version if its ASCII code is odd.\n",
    "\n",
    "def ascii_capitalize(str_val):\n",
    "    new_str_val = \"\"\n",
    "    for i in str_val:\n",
    "        if i.isalpha():\n",
    "            if (ord(i)%2 == 0):\n",
    "                new_str_val += i.upper()\n",
    "            else:\n",
    "                new_str_val += i.lower()\n",
    "        else:\n",
    "            new_str_val += i\n",
    "            \n",
    "    return new_str_val\n",
    "\n",
    "ascii_capitalize(\"Oh what a beautiful morning.\")"
   ]
  },
  {
   "cell_type": "code",
   "execution_count": null,
   "metadata": {},
   "outputs": [],
   "source": []
  }
 ],
 "metadata": {
  "kernelspec": {
   "display_name": "Python 3",
   "language": "python",
   "name": "python3"
  },
  "language_info": {
   "codemirror_mode": {
    "name": "ipython",
    "version": 3
   },
   "file_extension": ".py",
   "mimetype": "text/x-python",
   "name": "python",
   "nbconvert_exporter": "python",
   "pygments_lexer": "ipython3",
   "version": "3.8.5"
  }
 },
 "nbformat": 4,
 "nbformat_minor": 4
}
