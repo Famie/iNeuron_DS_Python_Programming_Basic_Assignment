{
 "cells": [
  {
   "cell_type": "markdown",
   "metadata": {},
   "source": [
    "# Programming Assignment 23"
   ]
  },
  {
   "cell_type": "code",
   "execution_count": 9,
   "metadata": {},
   "outputs": [
    {
     "data": {
      "text/plain": [
       "True"
      ]
     },
     "execution_count": 9,
     "metadata": {},
     "output_type": "execute_result"
    }
   ],
   "source": [
    "#1. Create a function that takes a number as an argument and returns True or False \n",
    "# depending on whether the number is symmetrical or not. A number is symmetrical when it is the same as its reverse.\n",
    "\n",
    "def is_symmetrical(num):\n",
    "    num_lst_val = list(str(num))\n",
    "    if(num_lst_val == num_lst_val[::-1]):\n",
    "        return True\n",
    "    else:\n",
    "        return False\n",
    "    \n",
    "is_symmetrical(1112111)"
   ]
  },
  {
   "cell_type": "code",
   "execution_count": 20,
   "metadata": {},
   "outputs": [
    {
     "data": {
      "text/plain": [
       "-20"
      ]
     },
     "execution_count": 20,
     "metadata": {},
     "output_type": "execute_result"
    }
   ],
   "source": [
    "#2. Given a string of numbers separated by a comma and space, return the product of the numbers.\n",
    "\n",
    "def multiply_nums(num_str_val):\n",
    "    num_str_lst = num_str_val.split(\", \")\n",
    "    product = 1\n",
    "    for i in num_str_lst:\n",
    "        product *= int(i)\n",
    "    return product\n",
    "    \n",
    "\n",
    "multiply_nums(\"10, -2\")"
   ]
  },
  {
   "cell_type": "code",
   "execution_count": 24,
   "metadata": {},
   "outputs": [
    {
     "data": {
      "text/plain": [
       "9414"
      ]
     },
     "execution_count": 24,
     "metadata": {},
     "output_type": "execute_result"
    }
   ],
   "source": [
    "#3. Create a function that squares every digit of a number.\n",
    "\n",
    "def square_digits(num):\n",
    "    num_lst = list(str(num))\n",
    "    square_num_lst = [str(int(i)**2) for i in num_lst]\n",
    "    square_num = ('').join(square_num_lst)\n",
    "    return int(square_num)\n",
    "square_digits(3212)"
   ]
  },
  {
   "cell_type": "code",
   "execution_count": 37,
   "metadata": {},
   "outputs": [
    {
     "data": {
      "text/plain": [
       "[1, 2, 3]"
      ]
     },
     "execution_count": 37,
     "metadata": {},
     "output_type": "execute_result"
    }
   ],
   "source": [
    "#4. Create a function that sorts a list and removes all duplicate items from it.\n",
    "\n",
    "def setify(lst_val):\n",
    "    lst_val.sort()\n",
    "    i = 0 \n",
    "    while(i < len(lst_val)-1):\n",
    "        if (lst_val[i] == lst_val[i+1]):\n",
    "            lst_val.pop(i)\n",
    "        else:\n",
    "            i+=1\n",
    "    return lst_val\n",
    "setify([3, 3, 3, 2, 1])\n"
   ]
  },
  {
   "cell_type": "code",
   "execution_count": 40,
   "metadata": {},
   "outputs": [
    {
     "data": {
      "text/plain": [
       "6"
      ]
     },
     "execution_count": 40,
     "metadata": {},
     "output_type": "execute_result"
    }
   ],
   "source": [
    "#5. Create a function that returns the mean of all digits.\n",
    "def mean(num):\n",
    "    num_lst = list(str(num))\n",
    "    total= 0\n",
    "    for i in num_lst:\n",
    "        total += int(i)\n",
    "    mean =total/len(num_lst)\n",
    "    return int(mean)\n",
    "\n",
    "mean(666)"
   ]
  },
  {
   "cell_type": "code",
   "execution_count": null,
   "metadata": {},
   "outputs": [],
   "source": []
  }
 ],
 "metadata": {
  "kernelspec": {
   "display_name": "Python 3",
   "language": "python",
   "name": "python3"
  },
  "language_info": {
   "codemirror_mode": {
    "name": "ipython",
    "version": 3
   },
   "file_extension": ".py",
   "mimetype": "text/x-python",
   "name": "python",
   "nbconvert_exporter": "python",
   "pygments_lexer": "ipython3",
   "version": "3.8.5"
  }
 },
 "nbformat": 4,
 "nbformat_minor": 4
}
