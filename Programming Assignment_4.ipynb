{
 "cells": [
  {
   "cell_type": "markdown",
   "metadata": {},
   "source": [
    "# Programming Assignment 4"
   ]
  },
  {
   "cell_type": "code",
   "execution_count": 4,
   "metadata": {},
   "outputs": [
    {
     "name": "stdout",
     "output_type": "stream",
     "text": [
      "Find the factorial for 6\n",
      "Factorial for 6! is 720\n"
     ]
    }
   ],
   "source": [
    "#1. Write a Python Program to Find the Factorial of a Number?\n",
    "\n",
    "def find_factorial(val):\n",
    "    if val == 0:\n",
    "        return 1\n",
    "    else:\n",
    "        factorial = 1\n",
    "        for number in range(1,val+1):\n",
    "            factorial *= number\n",
    "        return factorial\n",
    "\n",
    "number = int(input(\"Find the factorial for \"))\n",
    "print(f\"Factorial for {number}! is {find_factorial(number)}\")\n",
    "        "
   ]
  },
  {
   "cell_type": "code",
   "execution_count": 6,
   "metadata": {},
   "outputs": [
    {
     "name": "stdout",
     "output_type": "stream",
     "text": [
      "Multiplication table of 7\n",
      "7 x 1 = 7\n",
      "7 x 2 = 14\n",
      "7 x 3 = 21\n",
      "7 x 4 = 28\n",
      "7 x 5 = 35\n",
      "7 x 6 = 42\n",
      "7 x 7 = 49\n",
      "7 x 8 = 56\n",
      "7 x 9 = 63\n",
      "7 x 10 = 70\n"
     ]
    }
   ],
   "source": [
    "#2. Write a Python Program to Display the multiplication Table?\n",
    "def generate_table(val):\n",
    "    for i in range(1, 11):\n",
    "       print(val, 'x', i, '=', val*i)\n",
    "\n",
    "val = int(input(\"Multiplication table of \"))\n",
    "generate_table(val)"
   ]
  },
  {
   "cell_type": "code",
   "execution_count": 10,
   "metadata": {},
   "outputs": [
    {
     "name": "stdout",
     "output_type": "stream",
     "text": [
      "Enter number of terms 10\n",
      "Fibonacci sequence is\n",
      "0\n",
      "1\n",
      "1\n",
      "2\n",
      "3\n",
      "5\n",
      "8\n",
      "13\n",
      "21\n",
      "34\n"
     ]
    }
   ],
   "source": [
    "#3. Write a Python Program to Print the Fibonacci sequence?\n",
    "def generate_fibonacci(val):\n",
    "    fn1 = 0\n",
    "    fn2 = 1\n",
    "    if val <= 0:\n",
    "        print(\"Number must be greater than 0\")\n",
    "    elif val == 1:\n",
    "        print(\"Fibonacci sequence is\")\n",
    "        print(fn1)\n",
    "    else:\n",
    "        print(\"Fibonacci sequence is\")\n",
    "        for i in range(val):\n",
    "            print(fn1)\n",
    "            fnth = fn1 + fn2       \n",
    "            fn1 = fn2\n",
    "            fn2 = fnth\n",
    "\n",
    "val = int(input(\"Enter number of terms \"))\n",
    "generate_fibonacci(val)\n",
    "    "
   ]
  },
  {
   "cell_type": "code",
   "execution_count": 24,
   "metadata": {},
   "outputs": [
    {
     "name": "stdout",
     "output_type": "stream",
     "text": [
      "Enter number 370\n",
      "370 is an Armstrong number\n"
     ]
    }
   ],
   "source": [
    "#4. Write a Python Program to Check Armstrong Number?\n",
    "def check_armstrong(val):\n",
    "    lst = [*val]    \n",
    "    total = 0\n",
    "    total = sum(list(map(lambda item: int(item)**3, lst)))    \n",
    "    if (int(val) == total):\n",
    "        return True\n",
    "    else:\n",
    "        return False\n",
    "\n",
    "val = input(\"Enter number \")\n",
    "if(check_armstrong(val)):\n",
    "    print(f\"{val} is an Armstrong number\")\n",
    "else:\n",
    "    print(f\"{val} is not an Armstrong number\")\n"
   ]
  },
  {
   "cell_type": "code",
   "execution_count": 32,
   "metadata": {},
   "outputs": [
    {
     "name": "stdout",
     "output_type": "stream",
     "text": [
      "Enter lower bound number 0\n",
      "Enter upper bound number 10000\n",
      "0\n",
      "1\n",
      "153\n",
      "370\n",
      "371\n",
      "407\n"
     ]
    }
   ],
   "source": [
    "#5. Write a Python Program to Find Armstrong Number in an Interval?\n",
    "lower_bound = int(input(\"Enter lower bound number \"))\n",
    "upper_bound = int(input(\"Enter upper bound number \"))\n",
    "for number in range(lower_bound, upper_bound + 1):\n",
    "    if(check_armstrong(str(number))):\n",
    "        print(number)\n"
   ]
  },
  {
   "cell_type": "code",
   "execution_count": 36,
   "metadata": {},
   "outputs": [
    {
     "name": "stdout",
     "output_type": "stream",
     "text": [
      "Enter natural number limit 7\n",
      "The sum is 28\n"
     ]
    }
   ],
   "source": [
    "#6. Write a Python Program to Find the Sum of Natural Numbers?\n",
    "def sum_of_natural_num(val):\n",
    "    total = 0\n",
    "    for item in range(1, val+1):\n",
    "        total += item\n",
    "    print(f\"The sum is {total}\")\n",
    "    \n",
    "    \n",
    "val = int(input(\"Enter natural number limit \"))\n",
    "if (val < 0):\n",
    "    print(\"Natural number limit must be greater than 0 \")\n",
    "else:\n",
    "    sum_of_natural_num(val)\n"
   ]
  },
  {
   "cell_type": "code",
   "execution_count": null,
   "metadata": {},
   "outputs": [],
   "source": []
  }
 ],
 "metadata": {
  "kernelspec": {
   "display_name": "Python 3",
   "language": "python",
   "name": "python3"
  },
  "language_info": {
   "codemirror_mode": {
    "name": "ipython",
    "version": 3
   },
   "file_extension": ".py",
   "mimetype": "text/x-python",
   "name": "python",
   "nbconvert_exporter": "python",
   "pygments_lexer": "ipython3",
   "version": "3.8.5"
  }
 },
 "nbformat": 4,
 "nbformat_minor": 4
}
