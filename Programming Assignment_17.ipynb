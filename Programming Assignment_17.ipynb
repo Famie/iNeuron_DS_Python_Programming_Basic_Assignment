{
 "cells": [
  {
   "cell_type": "markdown",
   "metadata": {},
   "source": [
    "# Programming Assignment 17"
   ]
  },
  {
   "cell_type": "code",
   "execution_count": 11,
   "metadata": {},
   "outputs": [
    {
     "name": "stdout",
     "output_type": "stream",
     "text": [
      "0\n"
     ]
    }
   ],
   "source": [
    "#1. Create a function that takes three arguments a, b, c and \n",
    "# returns the sum of the numbers that are evenly divided by c from the range a, b inclusive.\n",
    "\n",
    "def evenly_divisible(a,b,c):\n",
    "    lst = [ i for i in range(a,b+1) if((i % c) == 0)]\n",
    "    return sum(lst)\n",
    "print(evenly_divisible(1,10,20))"
   ]
  },
  {
   "cell_type": "code",
   "execution_count": 17,
   "metadata": {},
   "outputs": [
    {
     "data": {
      "text/plain": [
       "True"
      ]
     },
     "execution_count": 17,
     "metadata": {},
     "output_type": "execute_result"
    }
   ],
   "source": [
    "#2. Create a function that returns True if a given inequality expression is correct and False otherwise.\n",
    "\n",
    "def correct_signs(expression):\n",
    "    return eval(expression)\n",
    "\n",
    "correct_signs(\"1 < 2 < 6 < 9 > 3\")"
   ]
  },
  {
   "cell_type": "code",
   "execution_count": 20,
   "metadata": {},
   "outputs": [
    {
     "name": "stdout",
     "output_type": "stream",
     "text": [
      "sh*k*sp**r*\n"
     ]
    }
   ],
   "source": [
    "#3. Create a function that replaces all the vowels in a string with a specified character.\n",
    "def replace_vowels(str_val, char):\n",
    "    new_str_val = \"\"\n",
    "    vowels = \"aeiou\"\n",
    "    for i in str_val:\n",
    "        if(i.lower() in vowels):\n",
    "            new_str_val += char\n",
    "        else:\n",
    "            new_str_val += i\n",
    "    return new_str_val\n",
    "\n",
    "print(replace_vowels(\"shakespeare\", \"*\"))"
   ]
  },
  {
   "cell_type": "code",
   "execution_count": 27,
   "metadata": {},
   "outputs": [
    {
     "name": "stdout",
     "output_type": "stream",
     "text": [
      "120\n"
     ]
    }
   ],
   "source": [
    "#4. Write a function that calculates the factorial of a number recursively.\n",
    "def factorial(a):\n",
    "    if (a == 0):\n",
    "        return 1\n",
    "    elif (a == 1):\n",
    "        return 1\n",
    "    else:\n",
    "        return (a*factorial(a-1))\n",
    "print(factorial(5))    "
   ]
  },
  {
   "cell_type": "code",
   "execution_count": 30,
   "metadata": {},
   "outputs": [
    {
     "name": "stdout",
     "output_type": "stream",
     "text": [
      "Enter String 1: strong\n",
      "Enter String 2: strung\n",
      "The Hamming distance is 1\n"
     ]
    }
   ],
   "source": [
    "#5. Hamming distance is the number of characters that differ between two strings.\n",
    "def hamming_distance(str1, str2):\n",
    "    h_dist_count = 0\n",
    "    for i in range(len(str1)):\n",
    "        if (str1[i] != str2[i]):\n",
    "            h_dist_count +=1\n",
    "    return h_dist_count\n",
    "\n",
    "str1 = input(\"Enter String 1: \")\n",
    "str2 = input(\"Enter String 2: \")\n",
    "if (len(str1) != len(str2)):\n",
    "    print(\"Invalid String \")\n",
    "print(f\"The Hamming distance is {hamming_distance(str1, str2)}\")\n",
    "        \n",
    "    "
   ]
  },
  {
   "cell_type": "code",
   "execution_count": null,
   "metadata": {},
   "outputs": [],
   "source": []
  }
 ],
 "metadata": {
  "kernelspec": {
   "display_name": "Python 3",
   "language": "python",
   "name": "python3"
  },
  "language_info": {
   "codemirror_mode": {
    "name": "ipython",
    "version": 3
   },
   "file_extension": ".py",
   "mimetype": "text/x-python",
   "name": "python",
   "nbconvert_exporter": "python",
   "pygments_lexer": "ipython3",
   "version": "3.8.5"
  }
 },
 "nbformat": 4,
 "nbformat_minor": 4
}
