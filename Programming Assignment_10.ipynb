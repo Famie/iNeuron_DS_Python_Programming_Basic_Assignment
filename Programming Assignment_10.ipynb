{
 "cells": [
  {
   "cell_type": "markdown",
   "metadata": {},
   "source": [
    "# Programming Assignment 10"
   ]
  },
  {
   "cell_type": "code",
   "execution_count": 15,
   "metadata": {},
   "outputs": [
    {
     "data": {
      "text/plain": [
       "30"
      ]
     },
     "execution_count": 15,
     "metadata": {},
     "output_type": "execute_result"
    }
   ],
   "source": [
    "#1. Write a Python program to find sum of elements in list?\n",
    "num_list = [4,5,6,7,8]\n",
    "sum(num_list)"
   ]
  },
  {
   "cell_type": "code",
   "execution_count": 17,
   "metadata": {},
   "outputs": [
    {
     "name": "stdout",
     "output_type": "stream",
     "text": [
      "6\n"
     ]
    }
   ],
   "source": [
    "#2. Write a Python program to  Multiply all numbers in the list?\n",
    "num_list = [1,2,3]\n",
    "sum_total = 1\n",
    "for num in num_list:\n",
    "    sum_total *= num\n",
    "print (sum_total)"
   ]
  },
  {
   "cell_type": "code",
   "execution_count": 3,
   "metadata": {},
   "outputs": [],
   "source": [
    "#3. Write a Python program to find smallest number in a list?\n",
    "num_list = [13,9,1,2,3, 7,8,12,67]\n",
    "print(min(num_list))"
   ]
  },
  {
   "cell_type": "code",
   "execution_count": 4,
   "metadata": {},
   "outputs": [],
   "source": [
    "#4. Write a Python program to find largest number in a list?\n",
    "num_list = [13,9,1,2,3, 7,8,12,67]\n",
    "print(max(num_list))"
   ]
  },
  {
   "cell_type": "code",
   "execution_count": 27,
   "metadata": {},
   "outputs": [
    {
     "name": "stdout",
     "output_type": "stream",
     "text": [
      "[67, 13, 12, 9, 8, 7, 3, 2, 1]\n",
      "13\n"
     ]
    }
   ],
   "source": [
    "#5. Write a Python program to find second largest number in a list?\n",
    "num_list = [13,9,1,2,3, 7,8,12,67]\n",
    "num_list.sort(reverse=True)\n",
    "\n",
    "if(len(num_list) > 1):\n",
    "    print(num_list[1])\n",
    "else:\n",
    "    print(\"List length is 1. There is no second largest number\")"
   ]
  },
  {
   "cell_type": "code",
   "execution_count": 30,
   "metadata": {},
   "outputs": [
    {
     "name": "stdout",
     "output_type": "stream",
     "text": [
      "[1, 2, 3, 7, 8, 9, 12, 13, 67]\n",
      "Enter N largest number 6\n",
      "[7, 8, 9, 12, 13, 67]\n"
     ]
    }
   ],
   "source": [
    "#6. Write a Python program to find N largest elements from a list?\n",
    "num_list = [13,9,1,2,3, 7,8,12,67]\n",
    "num_list.sort()\n",
    "print(num_list)\n",
    "n = int(input(\"Enter N largest number \"))\n",
    "if(num > 0):\n",
    "    print(num_list[-n:])"
   ]
  },
  {
   "cell_type": "code",
   "execution_count": 20,
   "metadata": {},
   "outputs": [
    {
     "name": "stdout",
     "output_type": "stream",
     "text": [
      "2 is an even number\n",
      "8 is an even number\n",
      "12 is an even number\n"
     ]
    }
   ],
   "source": [
    "#7. Write a Python program to print even numbers in a list?\n",
    "num_list = [13,9,1,2,3, 7,8,12,67]\n",
    "for num in num_list:\n",
    "    if(num % 2 ==0):\n",
    "        print(f\"{num} is an even number\")"
   ]
  },
  {
   "cell_type": "code",
   "execution_count": 21,
   "metadata": {},
   "outputs": [
    {
     "name": "stdout",
     "output_type": "stream",
     "text": [
      "13 is an even odd\n",
      "9 is an even odd\n",
      "1 is an even odd\n",
      "3 is an even odd\n",
      "7 is an even odd\n",
      "67 is an even odd\n"
     ]
    }
   ],
   "source": [
    "#8. Write a Python program to print odd numbers in a List?\n",
    "num_list = [13,9,1,2,3, 7,8,12,67]\n",
    "for num in num_list:\n",
    "    if(num % 2 !=0):\n",
    "        print(f\"{num} is an even odd\")"
   ]
  },
  {
   "cell_type": "code",
   "execution_count": 31,
   "metadata": {},
   "outputs": [
    {
     "name": "stdout",
     "output_type": "stream",
     "text": [
      "[13, 9, 1, 2, 3, 7, 8, 12, 67]\n"
     ]
    }
   ],
   "source": [
    "#9. Write a Python program to Remove empty List from List?\n",
    "num_list = [13,9,1,2,3, 7,8,12,67]\n",
    "res = [ele for ele in num_list if ele != []]\n",
    "print(res)"
   ]
  },
  {
   "cell_type": "code",
   "execution_count": 33,
   "metadata": {},
   "outputs": [
    {
     "name": "stdout",
     "output_type": "stream",
     "text": [
      "[13, 9, 1, 2, 3, 7, 8, 12, 67]\n",
      "[13, 9, 1, 2, 3, 7, 8, 12, 67]\n"
     ]
    }
   ],
   "source": [
    "#10. Write a Python program to Cloning or Copying a list?\n",
    "num_list = [13,9,1,2,3, 7,8,12,67]\n",
    "num_list_copy = list(num_list)\n",
    "print(num_list)\n",
    "print(num_list_copy)"
   ]
  },
  {
   "cell_type": "code",
   "execution_count": 34,
   "metadata": {},
   "outputs": [
    {
     "name": "stdout",
     "output_type": "stream",
     "text": [
      "5\n"
     ]
    }
   ],
   "source": [
    "#11. Write a Python program to Count occurrences of an element in a list?\n",
    "lst = [8, 6, 8, 10, 8, 20, 10, 8, 8]\n",
    "x = 8\n",
    "print(lst.count(x))"
   ]
  },
  {
   "cell_type": "code",
   "execution_count": null,
   "metadata": {},
   "outputs": [],
   "source": []
  }
 ],
 "metadata": {
  "kernelspec": {
   "display_name": "Python 3",
   "language": "python",
   "name": "python3"
  },
  "language_info": {
   "codemirror_mode": {
    "name": "ipython",
    "version": 3
   },
   "file_extension": ".py",
   "mimetype": "text/x-python",
   "name": "python",
   "nbconvert_exporter": "python",
   "pygments_lexer": "ipython3",
   "version": "3.8.5"
  }
 },
 "nbformat": 4,
 "nbformat_minor": 4
}
