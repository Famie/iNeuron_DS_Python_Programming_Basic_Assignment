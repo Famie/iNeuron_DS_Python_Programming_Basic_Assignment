{
 "cells": [
  {
   "cell_type": "markdown",
   "metadata": {},
   "source": [
    "# Programming Assignment 13"
   ]
  },
  {
   "cell_type": "code",
   "execution_count": 22,
   "metadata": {},
   "outputs": [
    {
     "name": "stdout",
     "output_type": "stream",
     "text": [
      "Enter comma seperated number 100,150,180\n",
      "18,22,24\n"
     ]
    }
   ],
   "source": [
    "#1: Write a program that calculates and prints the value according to the given formula: Q = Square root of [(2 * C * D)/H]\n",
    "import math\n",
    "def cal_formula(D):\n",
    "    C = 50\n",
    "    H = 30\n",
    "    Q = math.sqrt((2 * C * D)/H)\n",
    "    return int(Q)\n",
    "\n",
    "str_val=input(\"Enter comma seperated number \")\n",
    "lst_str_val = str_val.split(\",\")\n",
    "str_output = \"\"\n",
    "for D in lst_str_val:\n",
    "    str_output += str(cal_formula(int(D))) + \",\"\n",
    "print(str_output.rstrip(\",\"))"
   ]
  },
  {
   "cell_type": "code",
   "execution_count": 32,
   "metadata": {},
   "outputs": [
    {
     "name": "stdout",
     "output_type": "stream",
     "text": [
      "Provide dimensions for matrix 3,5\n",
      "[[0, 0, 0, 0, 0], [0, 1, 2, 3, 4], [0, 2, 4, 6, 8]]\n"
     ]
    }
   ],
   "source": [
    "#2: Write a program which takes 2 digits, X,Y as input and generates a 2-dimensional array. \n",
    "#The element value in the i-th row and j-th column of the array should be i*j.\n",
    "def print_matrix(x,y):\n",
    "    lst_matrix = []\n",
    "    for i in range(0,x):\n",
    "        lst_sub = []\n",
    "        lst_matrix.append(lst_sub)\n",
    "        for j in range(0, y):\n",
    "            lst_sub.append(i*j)\n",
    "    print(lst_matrix)\n",
    "    \n",
    "x,y = input(\"Provide dimensions for matrix \").split(\",\")\n",
    "print_matrix(int(x),int(y))\n",
    "\n"
   ]
  },
  {
   "cell_type": "code",
   "execution_count": 42,
   "metadata": {},
   "outputs": [
    {
     "name": "stdout",
     "output_type": "stream",
     "text": [
      "Enter comma separated sequence of words without,hello,bag,world\n",
      "bag,hello,without,world\n"
     ]
    }
   ],
   "source": [
    "#3. Write a program that accepts a comma separated sequence of words as \n",
    "# input and prints the words in a comma-separated sequence after sorting them alphabetically.\n",
    "str_val = input(\"Enter comma separated sequence of words \").lower()\n",
    "lst_str_val = str_val.split(\",\")\n",
    "lst_str_val.sort()\n",
    "print(str(','.join(lst_str_val)))\n"
   ]
  },
  {
   "cell_type": "code",
   "execution_count": 43,
   "metadata": {},
   "outputs": [
    {
     "name": "stdout",
     "output_type": "stream",
     "text": [
      "Enter sequence of whitespace separated words: hello world and practice makes perfect and hello world again\n",
      "again and hello makes perfect practice world\n"
     ]
    }
   ],
   "source": [
    "#4. Write a program that accepts a sequence of whitespace separated words as input and prints the \n",
    "# words after removing all duplicate words and sorting them alphanumerically.\n",
    "phrase = input(\"Enter sequence of whitespace separated words: \")\n",
    "phrase_splited = phrase.split(' ')\n",
    "\n",
    "word_list = []\n",
    "for i in phrase_splited:\n",
    "    if i not in word_list:\n",
    "        word_list.append(i)\n",
    "    else:\n",
    "        continue\n",
    "word_list.sort()\n",
    "print((' ').join(word_list))"
   ]
  },
  {
   "cell_type": "code",
   "execution_count": 45,
   "metadata": {},
   "outputs": [
    {
     "name": "stdout",
     "output_type": "stream",
     "text": [
      "Enter string: hello world! 123\n",
      "LETTERS 10\n",
      "DIGIT 3\n"
     ]
    }
   ],
   "source": [
    "#5. Write a program that accepts a sentence and calculate the number of letters and digits.\n",
    "str_val = input(\"Enter string: \")\n",
    "\n",
    "alpha_count = 0\n",
    "number_count = 0\n",
    "for char in str_val:\n",
    "    if(char.isnumeric()):\n",
    "        number_count +=1\n",
    "    elif(char.isalpha()):\n",
    "        alpha_count += 1\n",
    "\n",
    "print(f\"LETTERS {alpha_count}\")\n",
    "print(f\"DIGIT {number_count}\")\n",
    "    "
   ]
  },
  {
   "cell_type": "code",
   "execution_count": 55,
   "metadata": {},
   "outputs": [
    {
     "name": "stdout",
     "output_type": "stream",
     "text": [
      "Enter comma seperated password: ABd1234@1,a F1#,2w3E*,2We3345\n",
      "ABd1234@1\n"
     ]
    }
   ],
   "source": [
    "#6.A website requires the users to input username and password to register. \n",
    "#Write a program to check the validity of password input by users.\n",
    "import re\n",
    "def check_password_validity(lst_password_str):\n",
    "    valid_password = \"\"\n",
    "    pattern = re.compile(r\"[a-z+][0-9+][A-Z+]\")\n",
    "    for password in lst_password_str:\n",
    "        if len(password) < 6 or len(i) > 12:\n",
    "            continue\n",
    "\n",
    "        elif not re.search(\"([a-z])+\", password):\n",
    "            continue\n",
    "\n",
    "        elif not re.search(\"([A-Z])+\", password):\n",
    "            continue\n",
    "\n",
    "        elif not re.search(\"([0-9])+\", password):\n",
    "            continue\n",
    "\n",
    "        elif not re.search(\"([!@$%^&])+\", password):\n",
    "            continue\n",
    "\n",
    "        else:\n",
    "            valid_password += password + \",\"\n",
    "    print(valid_password.rstrip(\",\"))\n",
    "password_str = input(\"Enter comma seperated password: \")\n",
    "lst_password_str = password_str.split(\",\")\n",
    "check_password_validity(lst_password_str)\n"
   ]
  },
  {
   "cell_type": "code",
   "execution_count": 53,
   "metadata": {},
   "outputs": [
    {
     "name": "stdout",
     "output_type": "stream",
     "text": [
      "['A', 'B', 'd', '1', '2', '3', '4', '1']\n"
     ]
    }
   ],
   "source": [
    "pattern = re.compile(r\"[A-Za-z0-9+]\")\n",
    "print(pattern.findall(\"ABd1234@1\"))"
   ]
  },
  {
   "cell_type": "code",
   "execution_count": null,
   "metadata": {},
   "outputs": [],
   "source": []
  }
 ],
 "metadata": {
  "kernelspec": {
   "display_name": "Python 3",
   "language": "python",
   "name": "python3"
  },
  "language_info": {
   "codemirror_mode": {
    "name": "ipython",
    "version": 3
   },
   "file_extension": ".py",
   "mimetype": "text/x-python",
   "name": "python",
   "nbconvert_exporter": "python",
   "pygments_lexer": "ipython3",
   "version": "3.8.5"
  }
 },
 "nbformat": 4,
 "nbformat_minor": 4
}
