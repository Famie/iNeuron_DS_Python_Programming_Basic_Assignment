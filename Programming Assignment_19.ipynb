{
 "cells": [
  {
   "cell_type": "markdown",
   "metadata": {},
   "source": [
    "# Programming Assignment 19"
   ]
  },
  {
   "cell_type": "code",
   "execution_count": 3,
   "metadata": {},
   "outputs": [
    {
     "name": "stdout",
     "output_type": "stream",
     "text": [
      "11223344!!__  \n"
     ]
    }
   ],
   "source": [
    "#1. Create a function that takes a string and returns a string in which each character is repeated\n",
    "# once.\n",
    "def double_char(str_val):\n",
    "    double_str_val = \"\"\n",
    "    for i in str_val:\n",
    "        double_str_val += i + i        \n",
    "    return double_str_val\n",
    "print(double_char(\"1234!_ \"))\n"
   ]
  },
  {
   "cell_type": "code",
   "execution_count": 10,
   "metadata": {},
   "outputs": [
    {
     "name": "stdout",
     "output_type": "stream",
     "text": [
      "boolean expected\n"
     ]
    }
   ],
   "source": [
    "#2. Create a function that reverses a boolean value and returns the string \"boolean expected\" if another variable type is given.\n",
    "def reverse(bool_val):\n",
    "    if (type(bool_val) == bool):\n",
    "        return not (bool_val)\n",
    "    else:\n",
    "        return \"boolean expected\"\n",
    "print(reverse([]))"
   ]
  },
  {
   "cell_type": "code",
   "execution_count": 18,
   "metadata": {},
   "outputs": [
    {
     "name": "stdout",
     "output_type": "stream",
     "text": [
      "1048.576m\n"
     ]
    }
   ],
   "source": [
    "#3. Create a function that returns the thickness (in meters) of a piece of paper after folding it n number of times. \n",
    "# The paper starts off with a thickness of 0.5mm.\n",
    "\n",
    "def num_layers(num):\n",
    "    size = 0.5\n",
    "    for _ in range(num):\n",
    "        size *= 2\n",
    "        \n",
    "    convert_to_meter = size/1000\n",
    "    return convert_to_meter\n",
    "print(f\"{num_layers(21)}m\")    "
   ]
  },
  {
   "cell_type": "code",
   "execution_count": 23,
   "metadata": {},
   "outputs": [
    {
     "name": "stdout",
     "output_type": "stream",
     "text": [
      "[1]\n"
     ]
    }
   ],
   "source": [
    "#4. Create a function that takes a single string as argument and returns an ordered list \n",
    "# containing the indices of all capital letters in the string.\n",
    "\n",
    "def index_of_caps(str_val):\n",
    "    cap_index_lst = [i for i in range(len(str_val)) if (str_val[i].isupper()) ]\n",
    "    return cap_index_lst\n",
    "print(index_of_caps(\"sUn\"))"
   ]
  },
  {
   "cell_type": "code",
   "execution_count": 26,
   "metadata": {},
   "outputs": [
    {
     "name": "stdout",
     "output_type": "stream",
     "text": [
      "[2]\n"
     ]
    }
   ],
   "source": [
    "def find_even_nums(num):\n",
    "    even_num_lst = [i for i in range(1,num+1) if (i%2==0) ]\n",
    "    return even_num_lst\n",
    "print(find_even_nums(2))"
   ]
  },
  {
   "cell_type": "code",
   "execution_count": null,
   "metadata": {},
   "outputs": [],
   "source": []
  }
 ],
 "metadata": {
  "kernelspec": {
   "display_name": "Python 3",
   "language": "python",
   "name": "python3"
  },
  "language_info": {
   "codemirror_mode": {
    "name": "ipython",
    "version": 3
   },
   "file_extension": ".py",
   "mimetype": "text/x-python",
   "name": "python",
   "nbconvert_exporter": "python",
   "pygments_lexer": "ipython3",
   "version": "3.8.5"
  }
 },
 "nbformat": 4,
 "nbformat_minor": 4
}
