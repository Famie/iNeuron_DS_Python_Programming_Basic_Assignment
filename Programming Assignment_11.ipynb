{
 "cells": [
  {
   "cell_type": "markdown",
   "metadata": {},
   "source": [
    "# Programming Assignment 11"
   ]
  },
  {
   "cell_type": "code",
   "execution_count": 16,
   "metadata": {},
   "outputs": [
    {
     "name": "stdout",
     "output_type": "stream",
     "text": [
      "testing\n"
     ]
    }
   ],
   "source": [
    "#1. Write a Python program to find words which are greater than given length k?\n",
    "\n",
    "str_val = \"This is a testing\"\n",
    "k=5\n",
    "lst_str = str_val.split(\" \")\n",
    "for word in lst_str:\n",
    "    if (len(word) > k):\n",
    "        print(word)\n"
   ]
  },
  {
   "cell_type": "code",
   "execution_count": 12,
   "metadata": {},
   "outputs": [
    {
     "name": "stdout",
     "output_type": "stream",
     "text": [
      "['a', 'm', 'b', 's', 'E', 'F', 'S', 'F']\n",
      "absEFSF\n"
     ]
    }
   ],
   "source": [
    "#2. Write a Python program for removing i-th character from a string?\n",
    "i =1 \n",
    "\n",
    "str_val = \"ambsEFSF\"\n",
    "lst_str_val = list(str_val)\n",
    "print(lst_str_val)\n",
    "lst_str_val.pop(i)\n",
    "str_val = ('').join(lst_str_val)\n",
    "print(str_val)"
   ]
  },
  {
   "cell_type": "code",
   "execution_count": 17,
   "metadata": {},
   "outputs": [
    {
     "name": "stdout",
     "output_type": "stream",
     "text": [
      "Enter string Hello world we are learning python\n",
      "Hello-world-we-are-learning-python\n"
     ]
    }
   ],
   "source": [
    "#3. Write a Python program to split and join a string?\n",
    "str_val = input(\"Enter string \")\n",
    "lst_str_val = str_val.split(\" \")\n",
    "print(('-'.join(lst_str_val)))"
   ]
  },
  {
   "cell_type": "code",
   "execution_count": 24,
   "metadata": {},
   "outputs": [
    {
     "name": "stdout",
     "output_type": "stream",
     "text": [
      "001001010001010 is binary string\n"
     ]
    }
   ],
   "source": [
    "#4. Write a Python to check if a given string is binary string or not?\n",
    "\n",
    "def check_if_binary(string):\n",
    "    binary_val = '01'\n",
    "    for char in string:\n",
    "        if char not in binary_val:            \n",
    "            return False\n",
    "    return True\n",
    "string = \"001001010001010\"\n",
    "if(check_if_binary(string)):\n",
    "    print(f\"{string} is binary string\")\n",
    "else:\n",
    "    print(f\"{string} is not binary string\")\n"
   ]
  },
  {
   "cell_type": "code",
   "execution_count": 21,
   "metadata": {},
   "outputs": [
    {
     "name": "stdout",
     "output_type": "stream",
     "text": [
      " book python\n"
     ]
    }
   ],
   "source": [
    "#5. Write a Python program to find uncommon words from two Strings?\n",
    "def uncommon(str_a,str_b):\n",
    "    list_a = str_a.split()\n",
    "    list_b = str_b.split()\n",
    "    uc = ''\n",
    "    for i in list_a:\n",
    "        if i not in list_b:\n",
    "            uc = uc+\" \"+i\n",
    "    for j in list_b:\n",
    "        if j not in list_a:\n",
    "            uc = uc+\" \"+j\n",
    "  \n",
    "    return uc\n",
    "  \n",
    "\n",
    "str_a = \"This is a book\"\n",
    "str_b = \"This is a python\"\n",
    "print(uncommon(str_a,str_b))\n",
    "\n"
   ]
  },
  {
   "cell_type": "code",
   "execution_count": 20,
   "metadata": {},
   "outputs": [
    {
     "name": "stdout",
     "output_type": "stream",
     "text": [
      "Enter string Hello world we are learning python\n",
      "['e', 'l', 'o', ' ', 'w', 'r', 'a', 'n']\n"
     ]
    }
   ],
   "source": [
    "#6. Write a Python to find all duplicate characters in string?\n",
    "str_val = input(\"Enter string \")\n",
    "duplicate_char_lst = []\n",
    "for char in str_val:\n",
    "    if(str_val.count(char) > 1):\n",
    "        if(char not in duplicate_char_lst):\n",
    "            duplicate_char_lst.append(char)\n",
    "print(duplicate_char_lst)\n",
    "        \n",
    "        "
   ]
  },
  {
   "cell_type": "code",
   "execution_count": 26,
   "metadata": {},
   "outputs": [
    {
     "name": "stdout",
     "output_type": "stream",
     "text": [
      "String contain special character\n"
     ]
    }
   ],
   "source": [
    "#7. Write a Python Program to check if a string contains any special character?\n",
    "import re\n",
    "def check_if_special_char_exist(string):      \n",
    "    pattern = re.compile('[@_!#$%^&*()<>?/\\|}{~:]')          \n",
    "    if(pattern.search(string) == None):\n",
    "        print(\"String does not contain any special character\")          \n",
    "    else:\n",
    "        print(\"String contain special character\")\n",
    "string = \"Learn$To$Learn\"\n",
    "check_if_special_char_exist(string)"
   ]
  },
  {
   "cell_type": "code",
   "execution_count": null,
   "metadata": {},
   "outputs": [],
   "source": []
  }
 ],
 "metadata": {
  "kernelspec": {
   "display_name": "Python 3",
   "language": "python",
   "name": "python3"
  },
  "language_info": {
   "codemirror_mode": {
    "name": "ipython",
    "version": 3
   },
   "file_extension": ".py",
   "mimetype": "text/x-python",
   "name": "python",
   "nbconvert_exporter": "python",
   "pygments_lexer": "ipython3",
   "version": "3.8.5"
  }
 },
 "nbformat": 4,
 "nbformat_minor": 4
}
