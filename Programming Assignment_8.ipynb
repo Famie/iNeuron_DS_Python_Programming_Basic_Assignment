{
 "cells": [
  {
   "cell_type": "markdown",
   "metadata": {},
   "source": [
    "# Programming Assignment 8"
   ]
  },
  {
   "cell_type": "code",
   "execution_count": 1,
   "metadata": {},
   "outputs": [
    {
     "name": "stdout",
     "output_type": "stream",
     "text": [
      "[10, 16, 11]\n",
      "[10, 13, 9]\n",
      "[11, 12, 18]\n"
     ]
    }
   ],
   "source": [
    "#1. Write a Python Program to Add Two Matrices?\n",
    "\n",
    "A = [[1,8,7],\n",
    "    [9 ,6,4],\n",
    "    [8 ,7,12]]\n",
    "\n",
    "B = [[9,8,4],\n",
    "    [1,7,5],\n",
    "    [3,5,6]]\n",
    "\n",
    "result = [[0,0,0],\n",
    "         [0,0,0],\n",
    "         [0,0,0]]\n",
    "\n",
    "\n",
    "for i in range(len(A)):\n",
    "   for j in range(len(A[0])):\n",
    "       result[i][j] = A[i][j] + B[i][j]\n",
    "\n",
    "for r in result:\n",
    "   print(r)"
   ]
  },
  {
   "cell_type": "code",
   "execution_count": 2,
   "metadata": {},
   "outputs": [
    {
     "name": "stdout",
     "output_type": "stream",
     "text": [
      "[38, 99, 86]\n",
      "[99, 134, 90]\n",
      "[115, 173, 139]\n"
     ]
    }
   ],
   "source": [
    "#2. Write a Python Program to Multiply Two Matrices?\n",
    "A = [[1,8,7],\n",
    "    [9 ,6,4],\n",
    "    [8 ,7,12]]\n",
    "\n",
    "B = [[9,8,4],\n",
    "    [1,7,5],\n",
    "    [3,5,6]]\n",
    "\n",
    "result = [[0,0,0],\n",
    "         [0,0,0],\n",
    "         [0,0,0]]\n",
    "\n",
    "for i in range(len(A)):   \n",
    "   for j in range(len(B[0])):       \n",
    "       for k in range(len(B)):\n",
    "           result[i][j] += A[i][k] * B[k][j]\n",
    "for r in result:\n",
    "   print(r)        "
   ]
  },
  {
   "cell_type": "code",
   "execution_count": 3,
   "metadata": {},
   "outputs": [
    {
     "name": "stdout",
     "output_type": "stream",
     "text": [
      "[1, 9, 8]\n",
      "[8, 6, 7]\n",
      "[7, 4, 12]\n"
     ]
    }
   ],
   "source": [
    "#3. Write a Python Program to Transpose a Matrix?\n",
    "A = [[1,8,7],\n",
    "    [9 ,6,4],\n",
    "    [8 ,7,12]]\n",
    "\n",
    "result = [[0,0,0],\n",
    "         [0,0,0],\n",
    "         [0,0,0]]\n",
    "for i in range(len(A)):\n",
    "   for j in range(len(A[0])):\n",
    "       result[j][i] = A[i][j]\n",
    "\n",
    "for r in result:\n",
    "   print(r)"
   ]
  },
  {
   "cell_type": "code",
   "execution_count": 6,
   "metadata": {},
   "outputs": [
    {
     "name": "stdout",
     "output_type": "stream",
     "text": [
      "Enter any sentence to be sortedThis is a testing\n",
      "a\n",
      "is\n",
      "testing\n",
      "this\n"
     ]
    }
   ],
   "source": [
    "#4. Write a Python Program to Sort Words in Alphabetic Order?\n",
    "str = input(\"Enter any sentence to be sorted\")\n",
    "\n",
    "words = [word.lower() for word in str.split()]\n",
    "words.sort()\n",
    "for word in words:\n",
    "    print(word)\n"
   ]
  },
  {
   "cell_type": "code",
   "execution_count": 7,
   "metadata": {},
   "outputs": [
    {
     "name": "stdout",
     "output_type": "stream",
     "text": [
      "Enter any sentence with punctuation: Hi! This is a testing!\n",
      "Hi This is a testing\n"
     ]
    }
   ],
   "source": [
    "#5. Write a Python Program to Remove Punctuation From a String?\n",
    "\n",
    "punctuations = '''!()-[]{};:'\"\\,<>./?@#$%^&*_~'''\n",
    "str = input(\"Enter any sentence with punctuation: \")\n",
    "\n",
    "no_punct = \"\"\n",
    "for char in str:\n",
    "   if char not in punctuations:\n",
    "       no_punct = no_punct + char\n",
    "\n",
    "print(no_punct)"
   ]
  },
  {
   "cell_type": "code",
   "execution_count": null,
   "metadata": {},
   "outputs": [],
   "source": []
  }
 ],
 "metadata": {
  "kernelspec": {
   "display_name": "Python 3",
   "language": "python",
   "name": "python3"
  },
  "language_info": {
   "codemirror_mode": {
    "name": "ipython",
    "version": 3
   },
   "file_extension": ".py",
   "mimetype": "text/x-python",
   "name": "python",
   "nbconvert_exporter": "python",
   "pygments_lexer": "ipython3",
   "version": "3.8.5"
  }
 },
 "nbformat": 4,
 "nbformat_minor": 4
}
